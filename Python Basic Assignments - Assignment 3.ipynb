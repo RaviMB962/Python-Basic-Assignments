{
 "cells": [
  {
   "cell_type": "markdown",
   "id": "38b2fe35",
   "metadata": {},
   "source": [
    "## Python Basic Assignments - Assignment 3"
   ]
  },
  {
   "cell_type": "markdown",
   "id": "a359f419",
   "metadata": {},
   "source": [
    "## 1. Why are functions advantageous to have in your programs?"
   ]
  },
  {
   "cell_type": "raw",
   "id": "6cba433e",
   "metadata": {},
   "source": [
    "Creating function is advantageous, beacuse\n",
    "    we can avoid rewriting the same code, \n",
    "    we can call functions multiple time (reusability)\n",
    "    by the help of function we can break the program into the smaller part and make it more efficient \n"
   ]
  },
  {
   "cell_type": "markdown",
   "id": "37a0fb6a",
   "metadata": {},
   "source": [
    "## 2. When does the code in a function run: when it's specified or when it's called?"
   ]
  },
  {
   "cell_type": "raw",
   "id": "21cedd6d",
   "metadata": {},
   "source": [
    "specified mean we are going to define function using def keword,\n",
    "\n",
    "when we called the the function, it will run or gives results"
   ]
  },
  {
   "cell_type": "markdown",
   "id": "f14d1f22",
   "metadata": {},
   "source": [
    "## 3. What statement creates a function?"
   ]
  },
  {
   "cell_type": "raw",
   "id": "281bcffa",
   "metadata": {},
   "source": [
    "to create function we use def keyword from define, after vthat we write function name\n",
    "\n",
    "def function_name():\n",
    "    ##statement"
   ]
  },
  {
   "cell_type": "markdown",
   "id": "56177539",
   "metadata": {},
   "source": [
    "## 4. What is the difference between a function and a function call?"
   ]
  },
  {
   "cell_type": "raw",
   "id": "adf2e5cf",
   "metadata": {},
   "source": [
    "Function is creating a function in def keyword, it consist of function name & it's statments\n",
    "\n",
    "function call is Specify the function name and specify the parameters in parenthesis (), execute the function, this function call evaluvates to the return value"
   ]
  },
  {
   "cell_type": "markdown",
   "id": "955225e1",
   "metadata": {},
   "source": [
    "## 5. How many global scopes are there in a Python program? How many local scopes?"
   ]
  },
  {
   "cell_type": "raw",
   "id": "a02b3703",
   "metadata": {},
   "source": [
    "There is one global scope, and a local scope is created whenever a function is called."
   ]
  },
  {
   "cell_type": "markdown",
   "id": "c42acf53",
   "metadata": {},
   "source": [
    "## 6. What happens to variables in a local scope when the function call returns?"
   ]
  },
  {
   "cell_type": "raw",
   "id": "49089acd",
   "metadata": {},
   "source": [
    "When the function returns, the local scope will destroy, and these variables will forgotten. \n",
    "The next time uf we call this this function, the local variables will not remember the values stored in them from the last time the function was called."
   ]
  },
  {
   "cell_type": "markdown",
   "id": "d4c91713",
   "metadata": {},
   "source": [
    "## 7. What is the concept of a return value? Is it possible to have a return value in an expression?"
   ]
  },
  {
   "cell_type": "raw",
   "id": "15ecd907",
   "metadata": {},
   "source": [
    "retun value used to end the execution of function call. Yes,  return value can be use in expression"
   ]
  },
  {
   "cell_type": "markdown",
   "id": "76c663d2",
   "metadata": {},
   "source": [
    "## 8. If a function does not have a return statement, what is the return value of a call to that function?"
   ]
  },
  {
   "cell_type": "raw",
   "id": "179447f5",
   "metadata": {},
   "source": [
    "if there is no retun statement in function, function retun value will be None."
   ]
  },
  {
   "cell_type": "markdown",
   "id": "7007781f",
   "metadata": {},
   "source": [
    "## 9. How do you make a function variable refer to the global variable?"
   ]
  },
  {
   "cell_type": "raw",
   "id": "43f6fb44",
   "metadata": {},
   "source": [
    "by using global keyword, we can make function variable refer to the global variable"
   ]
  },
  {
   "cell_type": "code",
   "execution_count": 1,
   "id": "bbda4c2a",
   "metadata": {},
   "outputs": [
    {
     "name": "stdout",
     "output_type": "stream",
     "text": [
      "local\n",
      "local\n"
     ]
    }
   ],
   "source": [
    "def f():\n",
    "    global l\n",
    "    l=\"local\"\n",
    "    print(l)\n",
    "\n",
    "f()\n",
    "print(l)## function varibale also become global"
   ]
  },
  {
   "cell_type": "markdown",
   "id": "3350f669",
   "metadata": {},
   "source": [
    "## 10. What is the data type of None?"
   ]
  },
  {
   "cell_type": "raw",
   "id": "f5aea481",
   "metadata": {},
   "source": [
    "None is none data type class , it not belongs to string, number etc..\n",
    "when we use print in function , it results none type"
   ]
  },
  {
   "cell_type": "code",
   "execution_count": 8,
   "id": "517ce92d",
   "metadata": {},
   "outputs": [],
   "source": [
    "def add(a, b):\n",
    "    c = a+b\n",
    "    print(c)"
   ]
  },
  {
   "cell_type": "code",
   "execution_count": 9,
   "id": "a9ac2fdb",
   "metadata": {},
   "outputs": [
    {
     "name": "stdout",
     "output_type": "stream",
     "text": [
      "5\n",
      "None\n"
     ]
    }
   ],
   "source": [
    "s = add(2,3)\n",
    "print(s)"
   ]
  },
  {
   "cell_type": "markdown",
   "id": "44629d5f",
   "metadata": {},
   "source": [
    "## 11. What does the sentence import areallyourpetsnamederic do?"
   ]
  },
  {
   "cell_type": "raw",
   "id": "c755470c",
   "metadata": {},
   "source": [
    "import is the keyword used import already created  module .\n",
    "\n",
    "\n",
    "here above, if areallyourpetsnamederic is the module, then sentence is saying we are importing  areallyourpetsnamederic.."
   ]
  },
  {
   "cell_type": "markdown",
   "id": "b8dd8bf6",
   "metadata": {},
   "source": [
    "## 12. If you had a bacon() feature in a spam module, what would you call it after importing spam?"
   ]
  },
  {
   "cell_type": "code",
   "execution_count": null,
   "id": "99bf96ac",
   "metadata": {},
   "outputs": [],
   "source": [
    "import spam"
   ]
  },
  {
   "cell_type": "code",
   "execution_count": null,
   "id": "eb470ce9",
   "metadata": {},
   "outputs": [],
   "source": [
    "spam.bacon()"
   ]
  },
  {
   "cell_type": "markdown",
   "id": "17cd4bee",
   "metadata": {},
   "source": [
    "## 13. What can you do to save a programme from crashing if it encounters an error?"
   ]
  },
  {
   "cell_type": "raw",
   "id": "7c807ba8",
   "metadata": {},
   "source": [
    "we use try and except statements to save a programme from crashing & we can cath error in exception."
   ]
  },
  {
   "cell_type": "markdown",
   "id": "74ed8889",
   "metadata": {},
   "source": [
    "## 14. What is the purpose of the try clause? What is the purpose of the except clause?"
   ]
  },
  {
   "cell_type": "raw",
   "id": "50142fd3",
   "metadata": {},
   "source": [
    "try block allows us to check for mistakes in a code block\n",
    "\n",
    "we can handle the error with the except block\n",
    "\n",
    "When there is no error, the else block allows you to run code"
   ]
  },
  {
   "cell_type": "code",
   "execution_count": null,
   "id": "a6067c3e",
   "metadata": {},
   "outputs": [],
   "source": []
  }
 ],
 "metadata": {
  "kernelspec": {
   "display_name": "Python 3",
   "language": "python",
   "name": "python3"
  },
  "language_info": {
   "codemirror_mode": {
    "name": "ipython",
    "version": 3
   },
   "file_extension": ".py",
   "mimetype": "text/x-python",
   "name": "python",
   "nbconvert_exporter": "python",
   "pygments_lexer": "ipython3",
   "version": "3.8.8"
  }
 },
 "nbformat": 4,
 "nbformat_minor": 5
}
