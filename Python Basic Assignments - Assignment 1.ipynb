{
 "cells": [
  {
   "cell_type": "markdown",
   "id": "9d6467cf",
   "metadata": {},
   "source": [
    "# Python Basic Assignments - Assignment 1"
   ]
  },
  {
   "cell_type": "markdown",
   "id": "891db95a",
   "metadata": {},
   "source": [
    "## 1. In the below elements which of them are values or an expression"
   ]
  },
  {
   "cell_type": "code",
   "execution_count": null,
   "id": "127585cc",
   "metadata": {},
   "outputs": [],
   "source": [
    "Answers -\n",
    "\n",
    "*   is expressions\n",
    "\n",
    "'hello' is Values\n",
    "\n",
    "-87.8  is Values\n",
    "\n",
    "-  is expressions\n",
    "\n",
    "/  is expressions\n",
    "\n",
    "+  is expressions\n",
    "\n",
    "6   is Values"
   ]
  },
  {
   "cell_type": "markdown",
   "id": "e044a79d",
   "metadata": {},
   "source": [
    "## 2. What is the difference between string and variable?"
   ]
  },
  {
   "cell_type": "raw",
   "id": "cb3f17b9",
   "metadata": {},
   "source": [
    "Answers -\n",
    "\n",
    "a)a string is a value representing text . a variable is a name, it can refer to any value\n",
    "\n",
    "b)string itself varibale but not all varibales are string\n",
    "\n",
    "c) a varibale assigned using quotess(\"\" or '') are strings but any varible assigned using quote is may or may not.\n",
    "\n",
    "d) if we consider some integer varibale in string  & number\n",
    "    as string a =\"5\" , b = \"5\" print(a+b)##prints 55 -->  concatenation will be 55 for string\n",
    "    as Number a =\"5\" , b = \"5\" print(a+b)##prints 10 -->  concatenation will be 10 for Number"
   ]
  },
  {
   "cell_type": "markdown",
   "id": "3616afee",
   "metadata": {},
   "source": [
    "## 3. Describe three different data types."
   ]
  },
  {
   "cell_type": "code",
   "execution_count": 9,
   "id": "001a3c39",
   "metadata": {},
   "outputs": [
    {
     "name": "stdout",
     "output_type": "stream",
     "text": [
      "<class 'int'>\n",
      "<class 'float'>\n",
      "<class 'complex'>\n"
     ]
    }
   ],
   "source": [
    "##Answer:\n",
    "a = 2\n",
    "b = 2.5\n",
    "c = 3+ 2j\n",
    "\n",
    "print(type(a))\n",
    "print(type(b))\n",
    "print(type(c))"
   ]
  },
  {
   "cell_type": "raw",
   "id": "3668a789",
   "metadata": {},
   "source": [
    "Above output showing \"Number Data Type\", it's having numeric values\n",
    "'int' is integers\n",
    "'float' is ffloating point numbers\n",
    "'complex' is complex number, as theoritically we use i, here instead of 'i', 'j' is using"
   ]
  },
  {
   "cell_type": "code",
   "execution_count": 11,
   "id": "052c6165",
   "metadata": {},
   "outputs": [
    {
     "name": "stdout",
     "output_type": "stream",
     "text": [
      "<class 'str'>\n"
     ]
    }
   ],
   "source": [
    "d = \"ineuron\"\n",
    "print(type(d))"
   ]
  },
  {
   "cell_type": "raw",
   "id": "11e5e647",
   "metadata": {},
   "source": [
    "'str' means above out put is showing \"String Data Type\"\n",
    "in string sequence of characters are represented in the quotation marks"
   ]
  },
  {
   "cell_type": "code",
   "execution_count": 12,
   "id": "c4da18d5",
   "metadata": {},
   "outputs": [
    {
     "name": "stdout",
     "output_type": "stream",
     "text": [
      "<class 'list'>\n"
     ]
    }
   ],
   "source": [
    "l = [12, 45, \"ineuron\", \"ravi\", 2.5, 3+4j]\n",
    "print(type(l))"
   ]
  },
  {
   "cell_type": "raw",
   "id": "030d2f51",
   "metadata": {},
   "source": [
    "above output showing \"List Data Type\"\n",
    "list  is data type having diffrent types of element (we can notice in above example having both number and string)\n",
    "we create list using sqaure [] brackets, and elements we seperate with comma(,).\n",
    "list is mutable one mean editable, we can perform like index, slice operation etc.."
   ]
  },
  {
   "cell_type": "code",
   "execution_count": 13,
   "id": "1da44e17",
   "metadata": {},
   "outputs": [
    {
     "name": "stdout",
     "output_type": "stream",
     "text": [
      "<class 'tuple'>\n"
     ]
    }
   ],
   "source": [
    "t = (12, 45, \"ineuron\", \"ravi\", 2.5, 3+4j)\n",
    "print(type(t))"
   ]
  },
  {
   "cell_type": "raw",
   "id": "20738e40",
   "metadata": {},
   "source": [
    "above output showing \"Tuple Data Type\"\n",
    "in above example i used same elements in list,  here tuple is immutable & we store elements in Parentheses ().\n",
    "here also we can perform like index, slice operation etc.."
   ]
  },
  {
   "cell_type": "code",
   "execution_count": 14,
   "id": "35265d9a",
   "metadata": {},
   "outputs": [],
   "source": [
    "s = {12, 45, \"ineuron\", \"ravi\", 2.5, 3+4j}"
   ]
  },
  {
   "cell_type": "code",
   "execution_count": 15,
   "id": "2ce56910",
   "metadata": {},
   "outputs": [
    {
     "data": {
      "text/plain": [
       "set"
      ]
     },
     "execution_count": 15,
     "metadata": {},
     "output_type": "execute_result"
    }
   ],
   "source": [
    "type(s)"
   ]
  },
  {
   "cell_type": "raw",
   "id": "c725ba43",
   "metadata": {},
   "source": [
    "above output showing \"Set Data Type\"\n",
    "set data type also collection of the elements of diffrent data types as asme as list and tuple..\n",
    "but set is immutable as asem as tuple, its un order and store unique elements (mean doesn't allow same eleement inside)\n",
    "elements in set place in flower bracket {}                                                                              \n",
    "\n",
    "As per my understanding                                                                              \n",
    "having un order nature, it does not allow indexing and slice opration\n",
    "Allowing only unique elements  it will not support concatenation(+) and repetition (*) .                                                                             "
   ]
  },
  {
   "cell_type": "code",
   "execution_count": 17,
   "id": "5a021aa4",
   "metadata": {},
   "outputs": [],
   "source": [
    "m = {\"instituion\": \"ineuron\", \"course\":\"Fullstack\", \"fee\": 17500, \"oneneuron\": 6700.25}"
   ]
  },
  {
   "cell_type": "code",
   "execution_count": 19,
   "id": "6a2d0958",
   "metadata": {},
   "outputs": [
    {
     "name": "stdout",
     "output_type": "stream",
     "text": [
      "<class 'dict'>\n"
     ]
    }
   ],
   "source": [
    "print(type(m))"
   ]
  },
  {
   "cell_type": "raw",
   "id": "ceb1275f",
   "metadata": {},
   "source": [
    "above output showing \"Dictionary Data Type\"\n",
    "\n",
    "Dictionary is collection of diffrent data types and having key-value pairs.\n",
    "it's mutable and stores unique keys"
   ]
  },
  {
   "cell_type": "markdown",
   "id": "7f42dc79",
   "metadata": {},
   "source": [
    "## 4. What is an expression made up of? What do all expressions do?"
   ]
  },
  {
   "cell_type": "raw",
   "id": "73c7b66c",
   "metadata": {},
   "source": [
    "Answer:\n",
    "    \n",
    "    Expression is combination of operand and operators. (ie.Operand: variable or constant, Operator: like arthematic)\n",
    "    \n",
    "    All expressions evaluate or reduce to a single value\n",
    "    "
   ]
  },
  {
   "cell_type": "markdown",
   "id": "95f0df6d",
   "metadata": {},
   "source": [
    "## 5.This assignment statements, like spam = 10. What is the difference between an expression and a statement?"
   ]
  },
  {
   "cell_type": "raw",
   "id": "b4b71a63",
   "metadata": {},
   "source": [
    "a) Expression evaluates or reduces to single value , mean give result value.\n",
    "\n",
    "eg. 5*5 #yields 25\n",
    "\n",
    "b) statement is just a command or action. never return value, these are instructions to execute the function.\n",
    "\n",
    "eg. x = 2, spam = 10, print('hello')"
   ]
  },
  {
   "cell_type": "markdown",
   "id": "ee8ad30f",
   "metadata": {},
   "source": [
    "### 6.After running the following code, what does the variable bacon contain?\n",
    "\n",
    "bacon = 22\n",
    "\n",
    "bacon + 1"
   ]
  },
  {
   "cell_type": "code",
   "execution_count": 31,
   "id": "8cc3c542",
   "metadata": {},
   "outputs": [],
   "source": [
    "##Answer\n",
    "bacon = 22"
   ]
  },
  {
   "cell_type": "code",
   "execution_count": 32,
   "id": "c11fec2e",
   "metadata": {},
   "outputs": [
    {
     "data": {
      "text/plain": [
       "23"
      ]
     },
     "execution_count": 32,
     "metadata": {},
     "output_type": "execute_result"
    }
   ],
   "source": [
    "bacon + 1"
   ]
  },
  {
   "cell_type": "code",
   "execution_count": 33,
   "id": "15f75bfc",
   "metadata": {},
   "outputs": [
    {
     "data": {
      "text/plain": [
       "22"
      ]
     },
     "execution_count": 33,
     "metadata": {},
     "output_type": "execute_result"
    }
   ],
   "source": [
    "bacon ## Fimnal answer"
   ]
  },
  {
   "cell_type": "raw",
   "id": "17a44e8c",
   "metadata": {},
   "source": [
    "bacon varible will be remais same(22). bacon + 1 expression does not reassign the value in bacon.\n",
    "(if we applied  bacon = bacon + 1 statement, then bacon variable will change)"
   ]
  },
  {
   "cell_type": "markdown",
   "id": "df21c8bc",
   "metadata": {},
   "source": [
    "## 7.What should the values of the following two terms be?\n",
    "\n",
    "'spam'+'spamspam'\n",
    "\n",
    "'spam'*3\n"
   ]
  },
  {
   "cell_type": "code",
   "execution_count": 25,
   "id": "25b9fce2",
   "metadata": {},
   "outputs": [
    {
     "data": {
      "text/plain": [
       "'spamspamspam'"
      ]
     },
     "execution_count": 25,
     "metadata": {},
     "output_type": "execute_result"
    }
   ],
   "source": [
    "#Answers:\n",
    "'spam'+'spamspam'"
   ]
  },
  {
   "cell_type": "code",
   "execution_count": 24,
   "id": "4358559a",
   "metadata": {},
   "outputs": [
    {
     "data": {
      "text/plain": [
       "'spamspamspam'"
      ]
     },
     "execution_count": 24,
     "metadata": {},
     "output_type": "execute_result"
    }
   ],
   "source": [
    "'spam'*3"
   ]
  },
  {
   "cell_type": "markdown",
   "id": "eeef8063",
   "metadata": {},
   "source": [
    "## 8. Why is eggs a valid variable name while 100 is invalid?"
   ]
  },
  {
   "cell_type": "code",
   "execution_count": null,
   "id": "7a55b0e8",
   "metadata": {},
   "outputs": [],
   "source": [
    "Answer:\n",
    "    if we writter above statement is 100 = \"eggs\"\n",
    "    "
   ]
  },
  {
   "cell_type": "code",
   "execution_count": 34,
   "id": "e7def1bd",
   "metadata": {},
   "outputs": [
    {
     "ename": "SyntaxError",
     "evalue": "cannot assign to literal (<ipython-input-34-48580e45c176>, line 1)",
     "output_type": "error",
     "traceback": [
      "\u001b[1;36m  File \u001b[1;32m\"<ipython-input-34-48580e45c176>\"\u001b[1;36m, line \u001b[1;32m1\u001b[0m\n\u001b[1;33m    100 = \"eggs\"\u001b[0m\n\u001b[1;37m    ^\u001b[0m\n\u001b[1;31mSyntaxError\u001b[0m\u001b[1;31m:\u001b[0m cannot assign to literal\n"
     ]
    }
   ],
   "source": [
    "100 = \"eggs\" ## if we run this, it show it's invalid , beacusae Varibale names cannot begin with number"
   ]
  },
  {
   "cell_type": "markdown",
   "id": "43d59951",
   "metadata": {},
   "source": [
    "## 9. What three functions can be used to get the integer, floating-point number, or string version of a value?"
   ]
  },
  {
   "cell_type": "raw",
   "id": "a3a03282",
   "metadata": {},
   "source": [
    "Answer:\n",
    "\n",
    "The int(), float(), and str() functions will evaluate to the integer, floating-point number, and string versions of the value passed to them."
   ]
  },
  {
   "cell_type": "code",
   "execution_count": 37,
   "id": "777bd056",
   "metadata": {},
   "outputs": [],
   "source": [
    "#Example:  \n",
    "a = 5\n",
    "b = 2.5\n",
    "c = \"10\""
   ]
  },
  {
   "cell_type": "code",
   "execution_count": 38,
   "id": "1ae5d31c",
   "metadata": {},
   "outputs": [
    {
     "name": "stdout",
     "output_type": "stream",
     "text": [
      "<class 'int'>\n",
      "<class 'float'>\n",
      "<class 'str'>\n"
     ]
    }
   ],
   "source": [
    "print(type(a))\n",
    "print(type(b))\n",
    "print(type(c))"
   ]
  },
  {
   "cell_type": "code",
   "execution_count": 39,
   "id": "ea82d4f7",
   "metadata": {},
   "outputs": [],
   "source": [
    "# in above we can convert b (float) and c (str) into int\n",
    "d = int(b)\n",
    "e = int(c)"
   ]
  },
  {
   "cell_type": "code",
   "execution_count": 40,
   "id": "7f8f4a75",
   "metadata": {},
   "outputs": [
    {
     "name": "stdout",
     "output_type": "stream",
     "text": [
      "<class 'int'>\n",
      "<class 'int'>\n"
     ]
    }
   ],
   "source": [
    "print(type(d))\n",
    "print(type(e))\n",
    "## both will become int"
   ]
  },
  {
   "cell_type": "code",
   "execution_count": 41,
   "id": "da119e2c",
   "metadata": {},
   "outputs": [],
   "source": [
    "# from first example we can convert a (int) and c (str) into float\n",
    "f = float(a)\n",
    "g = float(c)"
   ]
  },
  {
   "cell_type": "code",
   "execution_count": 42,
   "id": "528cf002",
   "metadata": {},
   "outputs": [
    {
     "name": "stdout",
     "output_type": "stream",
     "text": [
      "<class 'float'>\n",
      "<class 'float'>\n"
     ]
    }
   ],
   "source": [
    "print(type(f))\n",
    "print(type(g))\n",
    "## both will become float"
   ]
  },
  {
   "cell_type": "markdown",
   "id": "84d96798",
   "metadata": {},
   "source": [
    "## 10. Why does this expression cause an error? How can you fix it?\n",
    "'I have eaten'+ 99 +'burritos.'"
   ]
  },
  {
   "cell_type": "code",
   "execution_count": 43,
   "id": "de96b2eb",
   "metadata": {},
   "outputs": [
    {
     "ename": "TypeError",
     "evalue": "can only concatenate str (not \"int\") to str",
     "output_type": "error",
     "traceback": [
      "\u001b[1;31m---------------------------------------------------------------------------\u001b[0m",
      "\u001b[1;31mTypeError\u001b[0m                                 Traceback (most recent call last)",
      "\u001b[1;32m<ipython-input-43-ef9b3cf6c0d8>\u001b[0m in \u001b[0;36m<module>\u001b[1;34m\u001b[0m\n\u001b[1;32m----> 1\u001b[1;33m \u001b[1;34m'I have eaten'\u001b[0m\u001b[1;33m+\u001b[0m \u001b[1;36m99\u001b[0m \u001b[1;33m+\u001b[0m\u001b[1;34m'burritos.'\u001b[0m\u001b[1;33m\u001b[0m\u001b[1;33m\u001b[0m\u001b[0m\n\u001b[0m",
      "\u001b[1;31mTypeError\u001b[0m: can only concatenate str (not \"int\") to str"
     ]
    }
   ],
   "source": [
    "'I have eaten'+ 99 +'burritos.'"
   ]
  },
  {
   "cell_type": "raw",
   "id": "0e6aec0e",
   "metadata": {},
   "source": [
    "we can concatenate  str with other str, but not with int, here 99 is the int, we need to fix this, need to change 99 as string."
   ]
  },
  {
   "cell_type": "code",
   "execution_count": 44,
   "id": "7383de16",
   "metadata": {},
   "outputs": [
    {
     "data": {
      "text/plain": [
       "'I have eaten99burritos.'"
      ]
     },
     "execution_count": 44,
     "metadata": {},
     "output_type": "execute_result"
    }
   ],
   "source": [
    "##Fixing\n",
    "'I have eaten'+ str(\"99\") +'burritos.'"
   ]
  },
  {
   "cell_type": "raw",
   "id": "bca05564",
   "metadata": {},
   "source": [
    "Now fixed"
   ]
  },
  {
   "cell_type": "code",
   "execution_count": null,
   "id": "6662f51f",
   "metadata": {},
   "outputs": [],
   "source": []
  }
 ],
 "metadata": {
  "kernelspec": {
   "display_name": "Python 3",
   "language": "python",
   "name": "python3"
  },
  "language_info": {
   "codemirror_mode": {
    "name": "ipython",
    "version": 3
   },
   "file_extension": ".py",
   "mimetype": "text/x-python",
   "name": "python",
   "nbconvert_exporter": "python",
   "pygments_lexer": "ipython3",
   "version": "3.8.8"
  }
 },
 "nbformat": 4,
 "nbformat_minor": 5
}
