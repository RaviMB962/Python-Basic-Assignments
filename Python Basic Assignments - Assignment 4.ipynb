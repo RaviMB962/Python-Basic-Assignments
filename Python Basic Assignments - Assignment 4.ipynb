{
 "cells": [
  {
   "cell_type": "markdown",
   "id": "cf1745ae",
   "metadata": {},
   "source": [
    "## Python Basic Assignments - Assignment 4"
   ]
  },
  {
   "cell_type": "markdown",
   "id": "37cbf400",
   "metadata": {},
   "source": [
    "## 1. What exactly is []?"
   ]
  },
  {
   "cell_type": "code",
   "execution_count": null,
   "id": "ab780201",
   "metadata": {},
   "outputs": [],
   "source": [
    "a empty list, example a = []"
   ]
  },
  {
   "cell_type": "markdown",
   "id": "e84c57b7",
   "metadata": {},
   "source": [
    "## 2. In a list of values stored in a variable called spam, how would you assign the value &#39;hello&#39; as the third value? (Assume [2, 4, 6, 8, 10] are in spam.)"
   ]
  },
  {
   "cell_type": "code",
   "execution_count": 6,
   "id": "8431eab7",
   "metadata": {},
   "outputs": [
    {
     "data": {
      "text/plain": [
       "[2, 4, 'hello', 6, 8, 10]"
      ]
     },
     "execution_count": 6,
     "metadata": {},
     "output_type": "execute_result"
    }
   ],
   "source": [
    "## if we are going to assign in third place ,mean index 2.(by not deleting any value)\n",
    "spam = [2,4,6,8,10]\n",
    "## by insert operation \n",
    "spam.insert(2, 'hello') ##(index, new value)\n",
    "spam"
   ]
  },
  {
   "cell_type": "code",
   "execution_count": 7,
   "id": "8e81a30a",
   "metadata": {},
   "outputs": [
    {
     "data": {
      "text/plain": [
       "[2, 4, 'hello', 8, 10]"
      ]
     },
     "execution_count": 7,
     "metadata": {},
     "output_type": "execute_result"
    }
   ],
   "source": [
    "## if we are goint replace (by deleting old value)\n",
    "spam = [2,4,6,8,10]\n",
    "spam[2] = 'hello'\n",
    "spam"
   ]
  },
  {
   "cell_type": "markdown",
   "id": "43fa789a",
   "metadata": {},
   "source": [
    "## Let&#39;s pretend the spam includes the list [&#39;a&#39;, &#39;b&#39;, &#39;c&#39;, &#39;d&#39;] for the next three queries."
   ]
  },
  {
   "cell_type": "markdown",
   "id": "c901bfbf",
   "metadata": {},
   "source": [
    "## 3. What is the value of spam[int(int(&#39;3&#39; * 2) / 11)]?"
   ]
  },
  {
   "cell_type": "code",
   "execution_count": 9,
   "id": "abc1b6d5",
   "metadata": {},
   "outputs": [],
   "source": [
    "spam = ['a', 'b', 'c', 'd']"
   ]
  },
  {
   "cell_type": "code",
   "execution_count": 13,
   "id": "2f438122",
   "metadata": {},
   "outputs": [
    {
     "data": {
      "text/plain": [
       "33"
      ]
     },
     "execution_count": 13,
     "metadata": {},
     "output_type": "execute_result"
    }
   ],
   "source": [
    "int('3' * 2) ## we are mutiplying '3' as string three times, it will results 33"
   ]
  },
  {
   "cell_type": "code",
   "execution_count": 12,
   "id": "3111fd20",
   "metadata": {},
   "outputs": [
    {
     "data": {
      "text/plain": [
       "3"
      ]
     },
     "execution_count": 12,
     "metadata": {},
     "output_type": "execute_result"
    }
   ],
   "source": [
    "int(int('3' * 2) / 11) #here '33' is changing str to int, by appying int"
   ]
  },
  {
   "cell_type": "code",
   "execution_count": 15,
   "id": "e7a3b997",
   "metadata": {},
   "outputs": [
    {
     "data": {
      "text/plain": [
       "'raviraviraviraviravi'"
      ]
     },
     "execution_count": 15,
     "metadata": {},
     "output_type": "execute_result"
    }
   ],
   "source": []
  },
  {
   "cell_type": "code",
   "execution_count": 17,
   "id": "a34ff45f",
   "metadata": {},
   "outputs": [
    {
     "data": {
      "text/plain": [
       "'d'"
      ]
     },
     "execution_count": 17,
     "metadata": {},
     "output_type": "execute_result"
    }
   ],
   "source": [
    "spam[int(int('3' * 2) / 11)] ## 33/11 results 3, hence giving 3rd index value"
   ]
  },
  {
   "cell_type": "markdown",
   "id": "034f4d9f",
   "metadata": {},
   "source": [
    "## 4. What is the value of spam[-1]?"
   ]
  },
  {
   "cell_type": "code",
   "execution_count": 18,
   "id": "2d484da1",
   "metadata": {},
   "outputs": [],
   "source": [
    "spam = ['a', 'b', 'c', 'd']"
   ]
  },
  {
   "cell_type": "code",
   "execution_count": 19,
   "id": "e8fa0849",
   "metadata": {},
   "outputs": [
    {
     "data": {
      "text/plain": [
       "'d'"
      ]
     },
     "execution_count": 19,
     "metadata": {},
     "output_type": "execute_result"
    }
   ],
   "source": [
    "spam[-1] ## negetive index calls from last value"
   ]
  },
  {
   "cell_type": "markdown",
   "id": "f52f0f94",
   "metadata": {},
   "source": [
    "## 5. What is the value of spam[:2]?"
   ]
  },
  {
   "cell_type": "code",
   "execution_count": 20,
   "id": "0feb80b9",
   "metadata": {},
   "outputs": [],
   "source": [
    "spam = ['a', 'b', 'c', 'd']"
   ]
  },
  {
   "cell_type": "code",
   "execution_count": 22,
   "id": "6d81444a",
   "metadata": {},
   "outputs": [
    {
     "data": {
      "text/plain": [
       "['a', 'b']"
      ]
     },
     "execution_count": 22,
     "metadata": {},
     "output_type": "execute_result"
    }
   ],
   "source": [
    "spam[:2] #before :, it will consider as o th index, then it resuls till 1st index but not 2nd"
   ]
  },
  {
   "cell_type": "markdown",
   "id": "53cb9686",
   "metadata": {},
   "source": [
    "## Let&#39;s pretend bacon has the list [3.14, &#39;cat,&#39; 11, &#39;cat,&#39; True] for the next three questions."
   ]
  },
  {
   "cell_type": "code",
   "execution_count": 4,
   "id": "e22fd863",
   "metadata": {},
   "outputs": [],
   "source": [
    "bacon = [3.14, 'cat',11, 'cat', True ]"
   ]
  },
  {
   "cell_type": "markdown",
   "id": "add809be",
   "metadata": {},
   "source": [
    "## 6. What is the value of bacon.index(&#39;cat&#39;)?"
   ]
  },
  {
   "cell_type": "code",
   "execution_count": 2,
   "id": "0717fa96",
   "metadata": {},
   "outputs": [
    {
     "data": {
      "text/plain": [
       "1"
      ]
     },
     "execution_count": 2,
     "metadata": {},
     "output_type": "execute_result"
    }
   ],
   "source": [
    "bacon.index('cat') ##returns the index of first occurrence of 'cat'"
   ]
  },
  {
   "cell_type": "markdown",
   "id": "bf75635b",
   "metadata": {},
   "source": [
    "## 7. How does bacon.append(99) change the look of the list value in bacon?"
   ]
  },
  {
   "cell_type": "code",
   "execution_count": 3,
   "id": "afb4d74c",
   "metadata": {},
   "outputs": [
    {
     "data": {
      "text/plain": [
       "[3.14, 'cat', 11, 'cat', True, 99]"
      ]
     },
     "execution_count": 3,
     "metadata": {},
     "output_type": "execute_result"
    }
   ],
   "source": [
    "## this append operation, Append the object to the end of the list.\n",
    "bacon.append(99)\n",
    "bacon"
   ]
  },
  {
   "cell_type": "markdown",
   "id": "435ea8b3",
   "metadata": {},
   "source": [
    "## 8. How does bacon.remove(&#39;cat&#39;) change the look of the list in bacon?"
   ]
  },
  {
   "cell_type": "code",
   "execution_count": 5,
   "id": "0198ce41",
   "metadata": {},
   "outputs": [
    {
     "data": {
      "text/plain": [
       "[3.14, 11, 'cat', True]"
      ]
     },
     "execution_count": 5,
     "metadata": {},
     "output_type": "execute_result"
    }
   ],
   "source": [
    "## remove operation, Remove first occurrence of value\n",
    "bacon.remove('cat')\n",
    "bacon"
   ]
  },
  {
   "cell_type": "markdown",
   "id": "b60f6013",
   "metadata": {},
   "source": [
    "## 9. What are the list concatenation and list replication operators?"
   ]
  },
  {
   "cell_type": "code",
   "execution_count": null,
   "id": "da334f0a",
   "metadata": {},
   "outputs": [],
   "source": [
    "+ operator is the list concatenation\n",
    "*  operator is the list replication \n",
    "Concatenation is done between the same data types only"
   ]
  },
  {
   "cell_type": "code",
   "execution_count": 9,
   "id": "e6993359",
   "metadata": {},
   "outputs": [
    {
     "data": {
      "text/plain": [
       "[1, 2, 3, 4]"
      ]
     },
     "execution_count": 9,
     "metadata": {},
     "output_type": "execute_result"
    }
   ],
   "source": [
    "## + operator is the list concatenation \n",
    "a = [1, 2]\n",
    "b = [3, 4]\n",
    "a+b"
   ]
  },
  {
   "cell_type": "code",
   "execution_count": 13,
   "id": "6f482e5e",
   "metadata": {},
   "outputs": [
    {
     "data": {
      "text/plain": [
       "[1, 2, 1, 2]"
      ]
     },
     "execution_count": 13,
     "metadata": {},
     "output_type": "execute_result"
    }
   ],
   "source": [
    "## *  operator is the list replication \n",
    "a = [1, 2]\n",
    "b = a*2\n",
    "b"
   ]
  },
  {
   "cell_type": "markdown",
   "id": "4311e2e8",
   "metadata": {},
   "source": [
    "## 10. What is difference between the list methods append() and insert()?"
   ]
  },
  {
   "cell_type": "markdown",
   "id": "d932655f",
   "metadata": {},
   "source": [
    "append()   :  Appends object to the end of the list\n",
    "\n",
    "insert()   :  Insert object before index"
   ]
  },
  {
   "cell_type": "code",
   "execution_count": 1,
   "id": "2f58200b",
   "metadata": {},
   "outputs": [
    {
     "data": {
      "text/plain": [
       "[2, 4, 'hello', 6, 8, 10]"
      ]
     },
     "execution_count": 1,
     "metadata": {},
     "output_type": "execute_result"
    }
   ],
   "source": [
    "## insert operation\n",
    "spam = [2,4,6,8,10]\n",
    "spam.insert(2, 'hello') ##(index, new value)\n",
    "spam"
   ]
  },
  {
   "cell_type": "code",
   "execution_count": 4,
   "id": "c01d65b3",
   "metadata": {},
   "outputs": [
    {
     "data": {
      "text/plain": [
       "[1, 2, 3, 4, 5, 7]"
      ]
     },
     "execution_count": 4,
     "metadata": {},
     "output_type": "execute_result"
    }
   ],
   "source": [
    "## append list\n",
    "l = [1, 2, 3 , 4 , 5]\n",
    "l.append(7)\n",
    "l"
   ]
  },
  {
   "cell_type": "markdown",
   "id": "bdb4242e",
   "metadata": {},
   "source": [
    "## 11. What are the two methods for removing items from a list?"
   ]
  },
  {
   "cell_type": "markdown",
   "id": "8c057ecc",
   "metadata": {},
   "source": [
    "remove() - removes first occurence of a item\n",
    "\n",
    "pop() - Remove and returns item at index (default last)."
   ]
  },
  {
   "cell_type": "code",
   "execution_count": 11,
   "id": "85534dbe",
   "metadata": {},
   "outputs": [
    {
     "data": {
      "text/plain": [
       "[1, 2, 'abc', 4, 3, 'ineuron', 5.5]"
      ]
     },
     "execution_count": 11,
     "metadata": {},
     "output_type": "execute_result"
    }
   ],
   "source": [
    "l = [1, 2, \"ineuron\", \"abc\", 4 ,3, \"ineuron\", 5.5]\n",
    "l.remove(\"ineuron\")\n",
    "l # firts occutrance of \"ineuron\" removed"
   ]
  },
  {
   "cell_type": "code",
   "execution_count": 13,
   "id": "7652d9d3",
   "metadata": {},
   "outputs": [
    {
     "data": {
      "text/plain": [
       "[1, 2, 'ineuron', 'abc', 4, 3, 'ineuron']"
      ]
     },
     "execution_count": 13,
     "metadata": {},
     "output_type": "execute_result"
    }
   ],
   "source": [
    "l = [1, 2, \"ineuron\", \"abc\", 4 ,3, \"ineuron\", 5.5]\n",
    "l.pop()\n",
    "l"
   ]
  },
  {
   "cell_type": "code",
   "execution_count": 15,
   "id": "785ef6ba",
   "metadata": {},
   "outputs": [
    {
     "data": {
      "text/plain": [
       "[1, 2, 'ineuron', 4, 3, 'ineuron', 5.5]"
      ]
     },
     "execution_count": 15,
     "metadata": {},
     "output_type": "execute_result"
    }
   ],
   "source": [
    "##if we give any index , the sane will remove, here for index 3 is \"abc\"\n",
    "l = [1, 2, \"ineuron\", \"abc\", 4 ,3, \"ineuron\", 5.5]\n",
    "l.pop(3)\n",
    "l"
   ]
  },
  {
   "cell_type": "markdown",
   "id": "822a6979",
   "metadata": {},
   "source": [
    "## 12. Describe how list values and string values are identical."
   ]
  },
  {
   "cell_type": "markdown",
   "id": "85c98b1a",
   "metadata": {},
   "source": [
    "1.String and List both behaves like a sequence"
   ]
  },
  {
   "cell_type": "markdown",
   "id": "88d5f217",
   "metadata": {},
   "source": [
    "2.for both we can pass indexing operator & slice opration"
   ]
  },
  {
   "cell_type": "code",
   "execution_count": 20,
   "id": "872b59d5",
   "metadata": {},
   "outputs": [
    {
     "data": {
      "text/plain": [
       "'e'"
      ]
     },
     "execution_count": 20,
     "metadata": {},
     "output_type": "execute_result"
    }
   ],
   "source": [
    "s = \"ineuron\"\n",
    "s[2]"
   ]
  },
  {
   "cell_type": "code",
   "execution_count": 21,
   "id": "7f22d694",
   "metadata": {},
   "outputs": [
    {
     "data": {
      "text/plain": [
       "'ine'"
      ]
     },
     "execution_count": 21,
     "metadata": {},
     "output_type": "execute_result"
    }
   ],
   "source": [
    "s[0:3]"
   ]
  },
  {
   "cell_type": "code",
   "execution_count": 17,
   "id": "c7085b3e",
   "metadata": {},
   "outputs": [
    {
     "data": {
      "text/plain": [
       "4"
      ]
     },
     "execution_count": 17,
     "metadata": {},
     "output_type": "execute_result"
    }
   ],
   "source": [
    "l = [\"ineuron\", \"ravi\", 4, 6, 3.2]\n",
    "l[2]"
   ]
  },
  {
   "cell_type": "code",
   "execution_count": 23,
   "id": "c167359b",
   "metadata": {},
   "outputs": [
    {
     "data": {
      "text/plain": [
       "['ravi', 4, 6]"
      ]
     },
     "execution_count": 23,
     "metadata": {},
     "output_type": "execute_result"
    }
   ],
   "source": [
    "l[1:4]"
   ]
  },
  {
   "cell_type": "markdown",
   "id": "d91cf587",
   "metadata": {},
   "source": [
    "3.Both lists and strings can be passed to len()"
   ]
  },
  {
   "cell_type": "code",
   "execution_count": 24,
   "id": "18bbf04c",
   "metadata": {},
   "outputs": [
    {
     "data": {
      "text/plain": [
       "7"
      ]
     },
     "execution_count": 24,
     "metadata": {},
     "output_type": "execute_result"
    }
   ],
   "source": [
    "s = \"ineuron\"\n",
    "len(s)"
   ]
  },
  {
   "cell_type": "code",
   "execution_count": 25,
   "id": "9706df96",
   "metadata": {},
   "outputs": [
    {
     "data": {
      "text/plain": [
       "5"
      ]
     },
     "execution_count": 25,
     "metadata": {},
     "output_type": "execute_result"
    }
   ],
   "source": [
    "l = [\"ineuron\", \"ravi\", 4, 6, 3.2]\n",
    "len(l)"
   ]
  },
  {
   "cell_type": "markdown",
   "id": "455338cf",
   "metadata": {},
   "source": [
    "4. both Can be concatenated or replicated"
   ]
  },
  {
   "cell_type": "code",
   "execution_count": 27,
   "id": "fbcb2190",
   "metadata": {},
   "outputs": [
    {
     "data": {
      "text/plain": [
       "'ineuronineuron'"
      ]
     },
     "execution_count": 27,
     "metadata": {},
     "output_type": "execute_result"
    }
   ],
   "source": [
    "s = \"ineuron\"\n",
    "s*2"
   ]
  },
  {
   "cell_type": "code",
   "execution_count": 28,
   "id": "7c51ddc0",
   "metadata": {},
   "outputs": [
    {
     "data": {
      "text/plain": [
       "'ineuronfullstack'"
      ]
     },
     "execution_count": 28,
     "metadata": {},
     "output_type": "execute_result"
    }
   ],
   "source": [
    "s1 = \"ineuron\"\n",
    "s2 = \"fullstack\"\n",
    "s3 =s1+s2\n",
    "s3"
   ]
  },
  {
   "cell_type": "code",
   "execution_count": 30,
   "id": "d19b8fb6",
   "metadata": {},
   "outputs": [
    {
     "data": {
      "text/plain": [
       "[1, 2, 3, 4, 5, 6, 7, 8]"
      ]
     },
     "execution_count": 30,
     "metadata": {},
     "output_type": "execute_result"
    }
   ],
   "source": [
    "l1 = [1,2,3,4]\n",
    "l2 = [5,6,7,8]\n",
    "\n",
    "l3 =l1+l2\n",
    "l3"
   ]
  },
  {
   "cell_type": "code",
   "execution_count": 31,
   "id": "73e88f9c",
   "metadata": {},
   "outputs": [
    {
     "data": {
      "text/plain": [
       "[1, 2, 3, 4, 1, 2, 3, 4]"
      ]
     },
     "execution_count": 31,
     "metadata": {},
     "output_type": "execute_result"
    }
   ],
   "source": [
    "l4 = l1*2\n",
    "l4"
   ]
  },
  {
   "cell_type": "markdown",
   "id": "55e03d9b",
   "metadata": {},
   "source": [
    "5.both Can be used with the in operators"
   ]
  },
  {
   "cell_type": "code",
   "execution_count": 34,
   "id": "06ac877e",
   "metadata": {},
   "outputs": [
    {
     "data": {
      "text/plain": [
       "True"
      ]
     },
     "execution_count": 34,
     "metadata": {},
     "output_type": "execute_result"
    }
   ],
   "source": [
    "s = \"ineuron\"\n",
    "\n",
    "\"n\" in s"
   ]
  },
  {
   "cell_type": "code",
   "execution_count": 35,
   "id": "aa1ae65e",
   "metadata": {},
   "outputs": [
    {
     "data": {
      "text/plain": [
       "True"
      ]
     },
     "execution_count": 35,
     "metadata": {},
     "output_type": "execute_result"
    }
   ],
   "source": [
    "l = [1,2,3,4]\n",
    "\n",
    "4 in l"
   ]
  },
  {
   "cell_type": "markdown",
   "id": "cce52c76",
   "metadata": {},
   "source": [
    "## 13. What&#39;s the difference between tuples and lists?"
   ]
  },
  {
   "cell_type": "markdown",
   "id": "b36ca164",
   "metadata": {},
   "source": [
    "a) List is a mutable data type, i.e., the list can be altered. Tuple is an immutable data type; i.e., the tuple value or structure can't be altered"
   ]
  },
  {
   "cell_type": "markdown",
   "id": "38715ce2",
   "metadata": {},
   "source": [
    "b) List is good in the case of deletion and insertion operations, Tuple is helpful in the case of read-only operations"
   ]
  },
  {
   "cell_type": "markdown",
   "id": "b2c5a326",
   "metadata": {},
   "source": [
    "## 14. How do you type a tuple value that only contains the integer 42?"
   ]
  },
  {
   "cell_type": "code",
   "execution_count": 38,
   "id": "cf819449",
   "metadata": {},
   "outputs": [],
   "source": [
    "## we need to add comma after 42, otherwise it become int\n",
    "t = (42,)"
   ]
  },
  {
   "cell_type": "code",
   "execution_count": 39,
   "id": "f5930e98",
   "metadata": {},
   "outputs": [
    {
     "data": {
      "text/plain": [
       "tuple"
      ]
     },
     "execution_count": 39,
     "metadata": {},
     "output_type": "execute_result"
    }
   ],
   "source": [
    "type(t)"
   ]
  },
  {
   "cell_type": "code",
   "execution_count": 40,
   "id": "b55ff5ff",
   "metadata": {},
   "outputs": [
    {
     "data": {
      "text/plain": [
       "int"
      ]
     },
     "execution_count": 40,
     "metadata": {},
     "output_type": "execute_result"
    }
   ],
   "source": [
    "#if we not add comma\n",
    "m = (42)\n",
    "type(m)"
   ]
  },
  {
   "cell_type": "markdown",
   "id": "8de6fa7a",
   "metadata": {},
   "source": [
    "## 15. How do you get a list value&#39;s tuple form? How do you get a tuple value&#39;s list form?"
   ]
  },
  {
   "cell_type": "code",
   "execution_count": 45,
   "id": "1d7d78b9",
   "metadata": {},
   "outputs": [
    {
     "name": "stdout",
     "output_type": "stream",
     "text": [
      "('ineuron', 'ravi', 4, 6, 3.2)\n"
     ]
    },
    {
     "data": {
      "text/plain": [
       "tuple"
      ]
     },
     "execution_count": 45,
     "metadata": {},
     "output_type": "execute_result"
    }
   ],
   "source": [
    "## by appling tuple function directly on the list. The list elements get converted to a tuple.\n",
    "\n",
    "l = [\"ineuron\", \"ravi\", 4, 6, 3.2]\n",
    "t = tuple(l)\n",
    "print(t)\n",
    "type(t)"
   ]
  },
  {
   "cell_type": "code",
   "execution_count": 46,
   "id": "eecb6861",
   "metadata": {},
   "outputs": [
    {
     "name": "stdout",
     "output_type": "stream",
     "text": [
      "['abc', 34, 56, 2.5]\n"
     ]
    },
    {
     "data": {
      "text/plain": [
       "list"
      ]
     },
     "execution_count": 46,
     "metadata": {},
     "output_type": "execute_result"
    }
   ],
   "source": [
    "## by appling list function directly on the tuple. The tuple elements get converted to a list.\n",
    "t = (\"abc\", 34, 56, 2.5)\n",
    "l = list(t)\n",
    "print(l)\n",
    "type(l)"
   ]
  },
  {
   "cell_type": "markdown",
   "id": "db6aef4e",
   "metadata": {},
   "source": [
    "## 16. Variables that &quot;contain&quot; list values are not necessarily lists themselves. Instead, what do they contain?"
   ]
  },
  {
   "cell_type": "markdown",
   "id": "cee87c14",
   "metadata": {},
   "source": [
    "contain references to list values."
   ]
  },
  {
   "cell_type": "markdown",
   "id": "dd74ba2c",
   "metadata": {},
   "source": [
    "## 17. How do you distinguish between copy.copy() and copy.deepcopy()?"
   ]
  },
  {
   "cell_type": "code",
   "execution_count": null,
   "id": "5ff990f0",
   "metadata": {},
   "outputs": [],
   "source": [
    "= is a operator used to create copy of an object"
   ]
  },
  {
   "cell_type": "code",
   "execution_count": null,
   "id": "3c687657",
   "metadata": {},
   "outputs": [],
   "source": [
    "##Shallow Copy\n",
    "cop.copy() called as Shallow copy"
   ]
  },
  {
   "cell_type": "code",
   "execution_count": 61,
   "id": "15ee9ac3",
   "metadata": {},
   "outputs": [
    {
     "name": "stdout",
     "output_type": "stream",
     "text": [
      "previous: [1, 2, 3, 4]\n",
      "id of previous: 2036919867136\n",
      "latest: [1, 2, 3, 4]\n",
      "id of latest: 2036919630912\n"
     ]
    }
   ],
   "source": [
    "## we import copy first insatance\n",
    "\n",
    "##3 for single list\n",
    "\n",
    "import copy\n",
    "\n",
    "previous = [1,2,3,4]\n",
    "latest = copy.copy (previous)\n",
    "\n",
    "print(\"previous:\", previous)\n",
    "print(\"id of previous:\", id(previous))\n",
    "\n",
    "print(\"latest:\", latest)\n",
    "print(\"id of latest:\", id(latest))"
   ]
  },
  {
   "cell_type": "code",
   "execution_count": 62,
   "id": "96499576",
   "metadata": {},
   "outputs": [],
   "source": [
    "latest[2] = 500"
   ]
  },
  {
   "cell_type": "code",
   "execution_count": 63,
   "id": "78a91fb3",
   "metadata": {},
   "outputs": [
    {
     "data": {
      "text/plain": [
       "([1, 2, 3, 4], [1, 2, 500, 4])"
      ]
     },
     "execution_count": 63,
     "metadata": {},
     "output_type": "execute_result"
    }
   ],
   "source": [
    "previous, latest ##we changed one item in latest, but it's not changed in previous."
   ]
  },
  {
   "cell_type": "code",
   "execution_count": 64,
   "id": "72991973",
   "metadata": {},
   "outputs": [
    {
     "name": "stdout",
     "output_type": "stream",
     "text": [
      "previous: [[1, 2, 3, 4], [4, 5, 6, 7], [8, 9, 10, 11]]\n",
      "id of previous: 2036925086912\n",
      "latest: [[1, 2, 3, 4], [4, 5, 6, 7], [8, 9, 10, 11]]\n",
      "id of latest: 2036920454016\n"
     ]
    }
   ],
   "source": [
    "## Nested List\n",
    "previous = [[1,2,3,4], [4,5,6,7], [8,9,10,11]]\n",
    "latest = copy.copy (previous)\n",
    "\n",
    "print(\"previous:\", previous)\n",
    "print(\"id of previous:\", id(previous))\n",
    "\n",
    "print(\"latest:\", latest)\n",
    "print(\"id of latest:\", id(latest))"
   ]
  },
  {
   "cell_type": "code",
   "execution_count": 65,
   "id": "fc389999",
   "metadata": {},
   "outputs": [],
   "source": [
    "latest [1][2] = 500"
   ]
  },
  {
   "cell_type": "code",
   "execution_count": 66,
   "id": "fd5dabac",
   "metadata": {},
   "outputs": [
    {
     "data": {
      "text/plain": [
       "([[1, 2, 3, 4], [4, 5, 500, 7], [8, 9, 10, 11]],\n",
       " [[1, 2, 3, 4], [4, 5, 500, 7], [8, 9, 10, 11]])"
      ]
     },
     "execution_count": 66,
     "metadata": {},
     "output_type": "execute_result"
    }
   ],
   "source": [
    "previous, latest ## when we change item of one list in nested list, it will refer to both side"
   ]
  },
  {
   "cell_type": "code",
   "execution_count": 67,
   "id": "e6b74c1e",
   "metadata": {},
   "outputs": [],
   "source": [
    "## append operation\n",
    "previous.append([12,13,14,15])"
   ]
  },
  {
   "cell_type": "code",
   "execution_count": 68,
   "id": "7c36002d",
   "metadata": {},
   "outputs": [
    {
     "data": {
      "text/plain": [
       "([[1, 2, 3, 4], [4, 5, 500, 7], [8, 9, 10, 11], [12, 13, 14, 15]],\n",
       " [[1, 2, 3, 4], [4, 5, 500, 7], [8, 9, 10, 11]])"
      ]
     },
     "execution_count": 68,
     "metadata": {},
     "output_type": "execute_result"
    }
   ],
   "source": [
    "previous, latest ##but in append opeartion we added new list, but it's not refering to another"
   ]
  },
  {
   "cell_type": "code",
   "execution_count": null,
   "id": "8faa2dae",
   "metadata": {},
   "outputs": [],
   "source": [
    "##Deep Copy\n",
    "copy.deepcop() is a Deep Copy"
   ]
  },
  {
   "cell_type": "code",
   "execution_count": 73,
   "id": "750429d5",
   "metadata": {},
   "outputs": [],
   "source": [
    "previous = [1,2,3,4]\n",
    "latest = copy.deepcopy (previous)"
   ]
  },
  {
   "cell_type": "code",
   "execution_count": 74,
   "id": "8679fe4f",
   "metadata": {},
   "outputs": [
    {
     "name": "stdout",
     "output_type": "stream",
     "text": [
      "previous: [1, 2, 3, 4]\n",
      "id of previous: 2036921735296\n",
      "latest: [1, 2, 3, 4]\n",
      "id of latest: 2036921727168\n"
     ]
    }
   ],
   "source": [
    "print(\"previous:\", previous)\n",
    "print(\"id of previous:\", id(previous))\n",
    "\n",
    "print(\"latest:\", latest)\n",
    "print(\"id of latest:\", id(latest))"
   ]
  },
  {
   "cell_type": "code",
   "execution_count": 75,
   "id": "34705ca5",
   "metadata": {},
   "outputs": [],
   "source": [
    "latest[2] = 500"
   ]
  },
  {
   "cell_type": "code",
   "execution_count": 76,
   "id": "ae697b98",
   "metadata": {},
   "outputs": [
    {
     "data": {
      "text/plain": [
       "([1, 2, 3, 4], [1, 2, 500, 4])"
      ]
     },
     "execution_count": 76,
     "metadata": {},
     "output_type": "execute_result"
    }
   ],
   "source": [
    "previous, latest ##we changed one item in latest, but it's not changed in previous. as same as shallow copy"
   ]
  },
  {
   "cell_type": "code",
   "execution_count": 2,
   "id": "81297cc4",
   "metadata": {},
   "outputs": [
    {
     "name": "stdout",
     "output_type": "stream",
     "text": [
      "previous: [[1, 2, 3, 4], [4, 5, 6, 7], [8, 9, 10, 11]]\n",
      "id of previous: 2109103764480\n",
      "latest: [[1, 2, 3, 4], [4, 5, 6, 7], [8, 9, 10, 11]]\n",
      "id of latest: 2109103764864\n"
     ]
    }
   ],
   "source": [
    "## Nested list\n",
    "\n",
    "import copy\n",
    "\n",
    "previous = [[1,2,3,4], [4,5,6,7], [8,9,10,11]]\n",
    "latest = copy.deepcopy (previous)\n",
    "\n",
    "print(\"previous:\", previous)\n",
    "print(\"id of previous:\", id(previous))\n",
    "\n",
    "print(\"latest:\", latest)\n",
    "print(\"id of latest:\", id(latest))"
   ]
  },
  {
   "cell_type": "code",
   "execution_count": 3,
   "id": "bbc1df16",
   "metadata": {},
   "outputs": [],
   "source": [
    "latest [1][2] = 500"
   ]
  },
  {
   "cell_type": "code",
   "execution_count": 4,
   "id": "d3fdf328",
   "metadata": {},
   "outputs": [
    {
     "data": {
      "text/plain": [
       "([[1, 2, 3, 4], [4, 5, 6, 7], [8, 9, 10, 11]],\n",
       " [[1, 2, 3, 4], [4, 5, 500, 7], [8, 9, 10, 11]])"
      ]
     },
     "execution_count": 4,
     "metadata": {},
     "output_type": "execute_result"
    }
   ],
   "source": [
    "previous, latest## when we change item of one list in nested list in one list, it will not refer to another."
   ]
  },
  {
   "cell_type": "code",
   "execution_count": 5,
   "id": "583e1d92",
   "metadata": {},
   "outputs": [],
   "source": [
    "latest .append([12,13,14,15])"
   ]
  },
  {
   "cell_type": "code",
   "execution_count": 7,
   "id": "3078a750",
   "metadata": {},
   "outputs": [
    {
     "data": {
      "text/plain": [
       "([[1, 2, 3, 4], [4, 5, 6, 7], [8, 9, 10, 11]],\n",
       " [[1, 2, 3, 4], [4, 5, 500, 7], [8, 9, 10, 11], [12, 13, 14, 15]])"
      ]
     },
     "execution_count": 7,
     "metadata": {},
     "output_type": "execute_result"
    }
   ],
   "source": [
    "previous, latest"
   ]
  },
  {
   "cell_type": "code",
   "execution_count": null,
   "id": "19968119",
   "metadata": {},
   "outputs": [],
   "source": [
    "## Conclusion\n",
    "\n",
    "##sigle list - after creating a copy (deep or shallow), when we change item using index in anywhere it refers in both version of list in both shallow and deep copy\n",
    "\n",
    "##Nested list - after creating a copy (deep or shallow), when we change item using index in sublist, it's not refers in both version of list in deep copy\n",
    "### but in shallow copy it refers"
   ]
  }
 ],
 "metadata": {
  "kernelspec": {
   "display_name": "Python 3",
   "language": "python",
   "name": "python3"
  },
  "language_info": {
   "codemirror_mode": {
    "name": "ipython",
    "version": 3
   },
   "file_extension": ".py",
   "mimetype": "text/x-python",
   "name": "python",
   "nbconvert_exporter": "python",
   "pygments_lexer": "ipython3",
   "version": "3.8.8"
  }
 },
 "nbformat": 4,
 "nbformat_minor": 5
}
