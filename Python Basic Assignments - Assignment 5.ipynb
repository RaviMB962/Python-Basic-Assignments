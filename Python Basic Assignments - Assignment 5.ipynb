{
 "cells": [
  {
   "cell_type": "markdown",
   "id": "46c6485b",
   "metadata": {},
   "source": [
    "## Python Basic Assignments - Assignment 5"
   ]
  },
  {
   "cell_type": "markdown",
   "id": "f89565db",
   "metadata": {},
   "source": [
    "## 1. What does an empty dictionary&#39;s code look like?"
   ]
  },
  {
   "cell_type": "code",
   "execution_count": null,
   "id": "82491428",
   "metadata": {},
   "outputs": [],
   "source": [
    "d = {}"
   ]
  },
  {
   "cell_type": "markdown",
   "id": "0b80963e",
   "metadata": {},
   "source": [
    "## 2. What is the value of a dictionary value with the key &#39;foo&#39; and the value 42?"
   ]
  },
  {
   "cell_type": "code",
   "execution_count": 1,
   "id": "0445d7d4",
   "metadata": {},
   "outputs": [],
   "source": [
    "d = {'foo': 42}"
   ]
  },
  {
   "cell_type": "code",
   "execution_count": 39,
   "id": "c1c0ad39",
   "metadata": {},
   "outputs": [
    {
     "data": {
      "text/plain": [
       "dict_keys(['foo'])"
      ]
     },
     "execution_count": 39,
     "metadata": {},
     "output_type": "execute_result"
    }
   ],
   "source": [
    "d.keys()"
   ]
  },
  {
   "cell_type": "code",
   "execution_count": 40,
   "id": "dd70bfb6",
   "metadata": {},
   "outputs": [
    {
     "data": {
      "text/plain": [
       "dict_values([42])"
      ]
     },
     "execution_count": 40,
     "metadata": {},
     "output_type": "execute_result"
    }
   ],
   "source": [
    "d.values()"
   ]
  },
  {
   "cell_type": "markdown",
   "id": "7a20ad53",
   "metadata": {},
   "source": [
    "## 3. What is the most significant distinction between a dictionary and a list?"
   ]
  },
  {
   "cell_type": "code",
   "execution_count": null,
   "id": "4b5d660b",
   "metadata": {},
   "outputs": [],
   "source": [
    "in list , we acces items using indices\n",
    "in dictionary Elements are accessed using key values"
   ]
  },
  {
   "cell_type": "markdown",
   "id": "80f4fc6b",
   "metadata": {},
   "source": [
    "## 4. What happens if you try to access spam[&#39;foo&#39;] if spam is {&#39;bar&#39;: 100}?"
   ]
  },
  {
   "cell_type": "code",
   "execution_count": 6,
   "id": "88a1a480",
   "metadata": {},
   "outputs": [],
   "source": [
    "spam = {'bar': 100}"
   ]
  },
  {
   "cell_type": "code",
   "execution_count": 7,
   "id": "66a70f1e",
   "metadata": {},
   "outputs": [
    {
     "ename": "KeyError",
     "evalue": "'foo'",
     "output_type": "error",
     "traceback": [
      "\u001b[1;31m---------------------------------------------------------------------------\u001b[0m",
      "\u001b[1;31mKeyError\u001b[0m                                  Traceback (most recent call last)",
      "\u001b[1;32m<ipython-input-7-9b5a94d1de8d>\u001b[0m in \u001b[0;36m<module>\u001b[1;34m\u001b[0m\n\u001b[1;32m----> 1\u001b[1;33m \u001b[0mspam\u001b[0m\u001b[1;33m[\u001b[0m\u001b[1;34m'foo'\u001b[0m\u001b[1;33m]\u001b[0m\u001b[1;33m\u001b[0m\u001b[1;33m\u001b[0m\u001b[0m\n\u001b[0m",
      "\u001b[1;31mKeyError\u001b[0m: 'foo'"
     ]
    }
   ],
   "source": [
    "spam['foo'] ##Here key error happend, mean 'foo' named key value poir is not entered given dict."
   ]
  },
  {
   "cell_type": "markdown",
   "id": "5ae04131",
   "metadata": {},
   "source": [
    "## 5. If a dictionary is stored in spam, what is the difference between the expressions &#39;cat&#39; in spam and &#39;cat&#39; in spam.keys()?"
   ]
  },
  {
   "cell_type": "code",
   "execution_count": 8,
   "id": "a075da89",
   "metadata": {},
   "outputs": [],
   "source": [
    "spam = {'cat': 10}"
   ]
  },
  {
   "cell_type": "code",
   "execution_count": 9,
   "id": "d0fc10c3",
   "metadata": {},
   "outputs": [
    {
     "data": {
      "text/plain": [
       "True"
      ]
     },
     "execution_count": 9,
     "metadata": {},
     "output_type": "execute_result"
    }
   ],
   "source": [
    "##As a expression 'cat' in spam\n",
    "'cat' in spam"
   ]
  },
  {
   "cell_type": "code",
   "execution_count": 10,
   "id": "ee6e159a",
   "metadata": {},
   "outputs": [
    {
     "data": {
      "text/plain": [
       "True"
      ]
     },
     "execution_count": 10,
     "metadata": {},
     "output_type": "execute_result"
    }
   ],
   "source": [
    "##As a 'cat' in spam.keys()\n",
    "'cat' in spam.keys()"
   ]
  },
  {
   "cell_type": "code",
   "execution_count": 11,
   "id": "0ae8aa0f",
   "metadata": {},
   "outputs": [],
   "source": [
    "#No diifrence , both output showing as true"
   ]
  },
  {
   "cell_type": "markdown",
   "id": "a1478ab8",
   "metadata": {},
   "source": [
    "## 6. If a dictionary is stored in spam, what is the difference between the expressions &#39;cat&#39; in spam and &#39;cat&#39; in spam.values()?"
   ]
  },
  {
   "cell_type": "code",
   "execution_count": 12,
   "id": "8bef5629",
   "metadata": {},
   "outputs": [],
   "source": [
    "spam = {'cat': 10}"
   ]
  },
  {
   "cell_type": "code",
   "execution_count": 13,
   "id": "9e7eabca",
   "metadata": {},
   "outputs": [
    {
     "data": {
      "text/plain": [
       "True"
      ]
     },
     "execution_count": 13,
     "metadata": {},
     "output_type": "execute_result"
    }
   ],
   "source": [
    "##As a expression 'cat' in spam\n",
    "'cat' in spam ##Checking as a key"
   ]
  },
  {
   "cell_type": "code",
   "execution_count": 14,
   "id": "ca14da2a",
   "metadata": {},
   "outputs": [
    {
     "data": {
      "text/plain": [
       "False"
      ]
     },
     "execution_count": 14,
     "metadata": {},
     "output_type": "execute_result"
    }
   ],
   "source": [
    "## As a 'cat' in spam.values()\n",
    "'cat' in spam.values()"
   ]
  },
  {
   "cell_type": "code",
   "execution_count": 15,
   "id": "d5ab89c3",
   "metadata": {},
   "outputs": [],
   "source": [
    "##'cat' as value results false, beacuse 'cat' is not a value, it's key"
   ]
  },
  {
   "cell_type": "markdown",
   "id": "e9274aca",
   "metadata": {},
   "source": [
    "## 7. What is a shortcut for the following code?\n",
    "\n",
    "if &#39;color&#39; not in spam:\n",
    "\n",
    "spam[&#39;color&#39;] = &#39;black&#39;"
   ]
  },
  {
   "cell_type": "code",
   "execution_count": 16,
   "id": "0e67e762",
   "metadata": {},
   "outputs": [],
   "source": [
    "spam = {'cat': 10}"
   ]
  },
  {
   "cell_type": "code",
   "execution_count": 17,
   "id": "f09ebadb",
   "metadata": {},
   "outputs": [
    {
     "data": {
      "text/plain": [
       "{'cat': 10, 'color': 'black'}"
      ]
     },
     "execution_count": 17,
     "metadata": {},
     "output_type": "execute_result"
    }
   ],
   "source": [
    "##here the task suggests, if spa duct doesn't had 'color' :'black', key value pair we need to insert, by calling setdefault()\n",
    "spam.setdefault('color', 'black')  ##spam.setdefault('key', value)\n",
    "spam"
   ]
  },
  {
   "cell_type": "markdown",
   "id": "01dd0532",
   "metadata": {},
   "source": [
    "## 8. How do you &quot;pretty print&quot; dictionary values using which module and function?"
   ]
  },
  {
   "cell_type": "code",
   "execution_count": null,
   "id": "99eec8b4",
   "metadata": {},
   "outputs": [],
   "source": [
    "To get  \"pretty print\" in dictionary, we use pprint is a Python module, which gives a more readable results"
   ]
  },
  {
   "cell_type": "code",
   "execution_count": 33,
   "id": "d2c344d8",
   "metadata": {},
   "outputs": [],
   "source": [
    "Org = [\n",
    "    {\"Course\":\"FSDS\", \"Type\": \"DataScience\", \"fee\": 17500}, \n",
    "    {\"Course\":\"Java\", \"Type\": \"Programming\", \"fee\" : 7000} ,\n",
    "      {\"Course\":\"Techneuron\", \"Type\": \"oneneuron\", \"fee\" : 7500}]"
   ]
  },
  {
   "cell_type": "code",
   "execution_count": 34,
   "id": "479e8fd6",
   "metadata": {},
   "outputs": [
    {
     "name": "stdout",
     "output_type": "stream",
     "text": [
      "[{'Course': 'FSDS', 'Type': 'DataScience', 'fee': 17500}, {'Course': 'Java', 'Type': 'Programming', 'fee': 7000}, {'Course': 'Techneuron', 'Type': 'oneneuron', 'fee': 7500}]\n"
     ]
    }
   ],
   "source": [
    "print(Org)"
   ]
  },
  {
   "cell_type": "code",
   "execution_count": 37,
   "id": "57499403",
   "metadata": {},
   "outputs": [],
   "source": [
    "import pprint"
   ]
  },
  {
   "cell_type": "code",
   "execution_count": 38,
   "id": "150aca2b",
   "metadata": {},
   "outputs": [
    {
     "name": "stdout",
     "output_type": "stream",
     "text": [
      "[{'Course': 'FSDS', 'Type': 'DataScience', 'fee': 17500},\n",
      " {'Course': 'Java', 'Type': 'Programming', 'fee': 7000},\n",
      " {'Course': 'Techneuron', 'Type': 'oneneuron', 'fee': 7500}]\n"
     ]
    }
   ],
   "source": [
    "pprint.pprint (Org)"
   ]
  },
  {
   "cell_type": "code",
   "execution_count": null,
   "id": "f613e57d",
   "metadata": {},
   "outputs": [],
   "source": []
  }
 ],
 "metadata": {
  "kernelspec": {
   "display_name": "Python 3",
   "language": "python",
   "name": "python3"
  },
  "language_info": {
   "codemirror_mode": {
    "name": "ipython",
    "version": 3
   },
   "file_extension": ".py",
   "mimetype": "text/x-python",
   "name": "python",
   "nbconvert_exporter": "python",
   "pygments_lexer": "ipython3",
   "version": "3.8.8"
  }
 },
 "nbformat": 4,
 "nbformat_minor": 5
}
