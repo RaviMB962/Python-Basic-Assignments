{
 "cells": [
  {
   "cell_type": "markdown",
   "id": "4db28621",
   "metadata": {},
   "source": [
    "## Python Basic Assignments - Assignment 2"
   ]
  },
  {
   "cell_type": "markdown",
   "id": "2987ba4d",
   "metadata": {},
   "source": [
    "## 1.What are the two values of the Boolean data type? How do you write them?"
   ]
  },
  {
   "cell_type": "raw",
   "id": "b65a91f0",
   "metadata": {},
   "source": [
    "Answer: Boolean data type has two values: True and False."
   ]
  },
  {
   "cell_type": "code",
   "execution_count": 1,
   "id": "b68320d6",
   "metadata": {},
   "outputs": [
    {
     "name": "stdout",
     "output_type": "stream",
     "text": [
      "True\n",
      "<class 'bool'>\n",
      "False\n",
      "<class 'bool'>\n"
     ]
    }
   ],
   "source": [
    "print(True)\n",
    "print(type(True))\n",
    "print(False)\n",
    "print(type(False))"
   ]
  },
  {
   "cell_type": "raw",
   "id": "aa3e0fca",
   "metadata": {},
   "source": [
    "Above is confirming type of True and False are Boolean"
   ]
  },
  {
   "cell_type": "raw",
   "id": "5882fdf0",
   "metadata": {},
   "source": [
    "As we know True is 1, False is 0, we can cross check here by executing "
   ]
  },
  {
   "cell_type": "code",
   "execution_count": 4,
   "id": "262b3dd0",
   "metadata": {},
   "outputs": [
    {
     "name": "stdout",
     "output_type": "stream",
     "text": [
      "True\n",
      "False\n"
     ]
    }
   ],
   "source": [
    "##Check 1\n",
    "a = 1\n",
    "print(bool(a))\n",
    "\n",
    "##Check 0\n",
    "a = 0\n",
    "print(bool(a))\n"
   ]
  },
  {
   "cell_type": "code",
   "execution_count": 5,
   "id": "26a4aa5c",
   "metadata": {},
   "outputs": [
    {
     "name": "stdout",
     "output_type": "stream",
     "text": [
      "False\n"
     ]
    }
   ],
   "source": [
    "##we can check given equality is true or false using boolean\n",
    "a = 10\n",
    "b = 15\n",
    "print(bool(a==b))"
   ]
  },
  {
   "cell_type": "code",
   "execution_count": 6,
   "id": "577bb057",
   "metadata": {},
   "outputs": [],
   "source": [
    "## Boolean is data type, gives a result (True or False)  for given data types are null or not\n",
    "##Examples:"
   ]
  },
  {
   "cell_type": "code",
   "execution_count": 18,
   "id": "d1af3007",
   "metadata": {},
   "outputs": [
    {
     "name": "stdout",
     "output_type": "stream",
     "text": [
      "True\n",
      "False\n",
      "True\n"
     ]
    }
   ],
   "source": [
    "##For string \n",
    "\n",
    "##non empty string\n",
    "b = \"ineuron\"\n",
    "print(bool(b))\n",
    "\n",
    "##empty string\n",
    "c = \"\"\n",
    "print(bool(c))\n",
    "\n",
    "##string having space\n",
    "a = \" \"  \n",
    "print(bool(a))"
   ]
  },
  {
   "cell_type": "code",
   "execution_count": 21,
   "id": "25c3edf3",
   "metadata": {},
   "outputs": [
    {
     "data": {
      "text/plain": [
       "2"
      ]
     },
     "execution_count": 21,
     "metadata": {},
     "output_type": "execute_result"
    }
   ],
   "source": [
    "True+True #here we can conclude True = 1 and false = 0 "
   ]
  },
  {
   "cell_type": "code",
   "execution_count": 22,
   "id": "ccdee392",
   "metadata": {},
   "outputs": [
    {
     "data": {
      "text/plain": [
       "1"
      ]
     },
     "execution_count": 22,
     "metadata": {},
     "output_type": "execute_result"
    }
   ],
   "source": [
    "False+True"
   ]
  },
  {
   "cell_type": "code",
   "execution_count": 23,
   "id": "536fc3c1",
   "metadata": {},
   "outputs": [
    {
     "data": {
      "text/plain": [
       "1"
      ]
     },
     "execution_count": 23,
     "metadata": {},
     "output_type": "execute_result"
    }
   ],
   "source": [
    "True+False"
   ]
  },
  {
   "cell_type": "code",
   "execution_count": 24,
   "id": "3002ce88",
   "metadata": {},
   "outputs": [
    {
     "data": {
      "text/plain": [
       "0"
      ]
     },
     "execution_count": 24,
     "metadata": {},
     "output_type": "execute_result"
    }
   ],
   "source": [
    "False+False"
   ]
  },
  {
   "cell_type": "markdown",
   "id": "446ac7be",
   "metadata": {},
   "source": [
    "## 2. What are the three different types of Boolean operators?"
   ]
  },
  {
   "cell_type": "raw",
   "id": "e0ff66a4",
   "metadata": {},
   "source": [
    "AND boolean operator in Python\n",
    "OR boolean operator in Python\n",
    "NOT boolean operator in Python"
   ]
  },
  {
   "cell_type": "code",
   "execution_count": 27,
   "id": "d2e9e0ec",
   "metadata": {},
   "outputs": [
    {
     "data": {
      "text/plain": [
       "True"
      ]
     },
     "execution_count": 27,
     "metadata": {},
     "output_type": "execute_result"
    }
   ],
   "source": [
    "#AND boolean operator in Python\n",
    "True and True"
   ]
  },
  {
   "cell_type": "code",
   "execution_count": 28,
   "id": "ec33ddef",
   "metadata": {},
   "outputs": [
    {
     "data": {
      "text/plain": [
       "False"
      ]
     },
     "execution_count": 28,
     "metadata": {},
     "output_type": "execute_result"
    }
   ],
   "source": [
    "True and False"
   ]
  },
  {
   "cell_type": "code",
   "execution_count": 29,
   "id": "878ac591",
   "metadata": {},
   "outputs": [
    {
     "data": {
      "text/plain": [
       "False"
      ]
     },
     "execution_count": 29,
     "metadata": {},
     "output_type": "execute_result"
    }
   ],
   "source": [
    "False and True"
   ]
  },
  {
   "cell_type": "code",
   "execution_count": 30,
   "id": "f5602b4f",
   "metadata": {},
   "outputs": [
    {
     "data": {
      "text/plain": [
       "False"
      ]
     },
     "execution_count": 30,
     "metadata": {},
     "output_type": "execute_result"
    }
   ],
   "source": [
    "False and False"
   ]
  },
  {
   "cell_type": "code",
   "execution_count": 24,
   "id": "dbc041a1",
   "metadata": {},
   "outputs": [
    {
     "name": "stdout",
     "output_type": "stream",
     "text": [
      "True\n"
     ]
    }
   ],
   "source": [
    "c = 50\n",
    "d = 45\n",
    "\n",
    "if (c > 30 and  d == 45):\n",
    "    print(\"True\")\n",
    "\n",
    "else:\n",
    "    print(\"Flase\")"
   ]
  },
  {
   "cell_type": "code",
   "execution_count": null,
   "id": "3d192b02",
   "metadata": {},
   "outputs": [],
   "source": [
    "#OR boolean operator in Python"
   ]
  },
  {
   "cell_type": "code",
   "execution_count": 28,
   "id": "9691fb01",
   "metadata": {},
   "outputs": [
    {
     "data": {
      "text/plain": [
       "True"
      ]
     },
     "execution_count": 28,
     "metadata": {},
     "output_type": "execute_result"
    }
   ],
   "source": [
    "True or True"
   ]
  },
  {
   "cell_type": "code",
   "execution_count": 29,
   "id": "0ec477ae",
   "metadata": {},
   "outputs": [
    {
     "data": {
      "text/plain": [
       "True"
      ]
     },
     "execution_count": 29,
     "metadata": {},
     "output_type": "execute_result"
    }
   ],
   "source": [
    "True or False"
   ]
  },
  {
   "cell_type": "code",
   "execution_count": 30,
   "id": "08c6b217",
   "metadata": {},
   "outputs": [
    {
     "data": {
      "text/plain": [
       "True"
      ]
     },
     "execution_count": 30,
     "metadata": {},
     "output_type": "execute_result"
    }
   ],
   "source": [
    "False or True"
   ]
  },
  {
   "cell_type": "code",
   "execution_count": 31,
   "id": "92e67fe1",
   "metadata": {},
   "outputs": [
    {
     "data": {
      "text/plain": [
       "False"
      ]
     },
     "execution_count": 31,
     "metadata": {},
     "output_type": "execute_result"
    }
   ],
   "source": [
    "False or False"
   ]
  },
  {
   "cell_type": "code",
   "execution_count": 35,
   "id": "2b875e1d",
   "metadata": {},
   "outputs": [
    {
     "name": "stdout",
     "output_type": "stream",
     "text": [
      "True\n"
     ]
    }
   ],
   "source": [
    "##as petr above if anyone satisiy correct , it will show as true\n",
    "c = 38\n",
    "d = 40\n",
    "\n",
    "if (c > 30 or  d == 45):\n",
    "    print(\"True\")\n",
    "\n",
    "else:\n",
    "    print(\"Flase\")"
   ]
  },
  {
   "cell_type": "code",
   "execution_count": 25,
   "id": "684f119e",
   "metadata": {},
   "outputs": [],
   "source": [
    "#NOT boolean operator in Python"
   ]
  },
  {
   "cell_type": "code",
   "execution_count": 26,
   "id": "29524c7f",
   "metadata": {},
   "outputs": [
    {
     "data": {
      "text/plain": [
       "False"
      ]
     },
     "execution_count": 26,
     "metadata": {},
     "output_type": "execute_result"
    }
   ],
   "source": [
    "not(True)"
   ]
  },
  {
   "cell_type": "code",
   "execution_count": 27,
   "id": "89547568",
   "metadata": {},
   "outputs": [
    {
     "data": {
      "text/plain": [
       "True"
      ]
     },
     "execution_count": 27,
     "metadata": {},
     "output_type": "execute_result"
    }
   ],
   "source": [
    "not(False)"
   ]
  },
  {
   "cell_type": "code",
   "execution_count": 37,
   "id": "e81d2c31",
   "metadata": {},
   "outputs": [
    {
     "name": "stdout",
     "output_type": "stream",
     "text": [
      "a and b are equal\n"
     ]
    }
   ],
   "source": [
    "a = 5\n",
    "b = 5\n",
    "\n",
    "if (not(a==b)):\n",
    "    print(\"a and b are not equal\")\n",
    "    \n",
    "else:\n",
    "    print(\"a and b are equal\")"
   ]
  },
  {
   "cell_type": "raw",
   "id": "b0580d3e",
   "metadata": {},
   "source": [
    "above example we receving output from else "
   ]
  },
  {
   "cell_type": "markdown",
   "id": "98f2839e",
   "metadata": {},
   "source": [
    "## 3. Make a list of each Boolean operator&#39;s truth tables (i.e. every possible combination of Boolean values for the operator and what it evaluate )."
   ]
  },
  {
   "cell_type": "raw",
   "id": "2a4f561a",
   "metadata": {},
   "source": [
    "AND boolean operator in Python"
   ]
  },
  {
   "cell_type": "code",
   "execution_count": 38,
   "id": "c894425a",
   "metadata": {},
   "outputs": [
    {
     "data": {
      "text/plain": [
       "True"
      ]
     },
     "execution_count": 38,
     "metadata": {},
     "output_type": "execute_result"
    }
   ],
   "source": [
    "True and True"
   ]
  },
  {
   "cell_type": "code",
   "execution_count": 39,
   "id": "6ef6ed16",
   "metadata": {},
   "outputs": [
    {
     "data": {
      "text/plain": [
       "False"
      ]
     },
     "execution_count": 39,
     "metadata": {},
     "output_type": "execute_result"
    }
   ],
   "source": [
    "True and False"
   ]
  },
  {
   "cell_type": "code",
   "execution_count": 40,
   "id": "7801eb9d",
   "metadata": {},
   "outputs": [
    {
     "data": {
      "text/plain": [
       "False"
      ]
     },
     "execution_count": 40,
     "metadata": {},
     "output_type": "execute_result"
    }
   ],
   "source": [
    "False and True"
   ]
  },
  {
   "cell_type": "code",
   "execution_count": 41,
   "id": "8f933454",
   "metadata": {},
   "outputs": [
    {
     "data": {
      "text/plain": [
       "False"
      ]
     },
     "execution_count": 41,
     "metadata": {},
     "output_type": "execute_result"
    }
   ],
   "source": [
    "False and False"
   ]
  },
  {
   "cell_type": "raw",
   "id": "b7bf2741",
   "metadata": {},
   "source": [
    "OR boolean operator in Python"
   ]
  },
  {
   "cell_type": "code",
   "execution_count": 42,
   "id": "42c2539f",
   "metadata": {},
   "outputs": [
    {
     "data": {
      "text/plain": [
       "True"
      ]
     },
     "execution_count": 42,
     "metadata": {},
     "output_type": "execute_result"
    }
   ],
   "source": [
    "True or True"
   ]
  },
  {
   "cell_type": "code",
   "execution_count": 43,
   "id": "24621962",
   "metadata": {},
   "outputs": [
    {
     "data": {
      "text/plain": [
       "True"
      ]
     },
     "execution_count": 43,
     "metadata": {},
     "output_type": "execute_result"
    }
   ],
   "source": [
    "True or False"
   ]
  },
  {
   "cell_type": "code",
   "execution_count": 44,
   "id": "1481f6b6",
   "metadata": {},
   "outputs": [
    {
     "data": {
      "text/plain": [
       "True"
      ]
     },
     "execution_count": 44,
     "metadata": {},
     "output_type": "execute_result"
    }
   ],
   "source": [
    "False or True"
   ]
  },
  {
   "cell_type": "code",
   "execution_count": 45,
   "id": "57883c1d",
   "metadata": {},
   "outputs": [
    {
     "data": {
      "text/plain": [
       "False"
      ]
     },
     "execution_count": 45,
     "metadata": {},
     "output_type": "execute_result"
    }
   ],
   "source": [
    "False or False"
   ]
  },
  {
   "cell_type": "code",
   "execution_count": null,
   "id": "b7f06b20",
   "metadata": {},
   "outputs": [],
   "source": [
    "#NOT boolean operator in Python"
   ]
  },
  {
   "cell_type": "code",
   "execution_count": 46,
   "id": "0e0774bd",
   "metadata": {},
   "outputs": [
    {
     "data": {
      "text/plain": [
       "False"
      ]
     },
     "execution_count": 46,
     "metadata": {},
     "output_type": "execute_result"
    }
   ],
   "source": [
    "not(True)"
   ]
  },
  {
   "cell_type": "code",
   "execution_count": 47,
   "id": "50611281",
   "metadata": {},
   "outputs": [
    {
     "data": {
      "text/plain": [
       "True"
      ]
     },
     "execution_count": 47,
     "metadata": {},
     "output_type": "execute_result"
    }
   ],
   "source": [
    "not(False)"
   ]
  },
  {
   "cell_type": "markdown",
   "id": "fdc7c058",
   "metadata": {},
   "source": [
    "## 4. What are the values of the following expressions?\n",
    "\n",
    "(5 &gt; 4) and (3 == 5)\n",
    "\n",
    "not (5 &gt; 4)\n",
    "\n",
    "(5 &gt; 4) or (3 == 5)\n",
    "\n",
    "not ((5 &gt; 4) or (3 == 5))\n",
    "\n",
    "(True and True) and (True == False)\n",
    "\n",
    "(not False) or (not True)"
   ]
  },
  {
   "cell_type": "code",
   "execution_count": 49,
   "id": "add50e89",
   "metadata": {},
   "outputs": [
    {
     "data": {
      "text/plain": [
       "False"
      ]
     },
     "execution_count": 49,
     "metadata": {},
     "output_type": "execute_result"
    }
   ],
   "source": [
    "(5 > 4) and (3 == 5) \n",
    "\n",
    "##Here output is false, beacuse  5>4 is True , 3==5 is False,from  AND boolean operator ,\n",
    "## True and False results False"
   ]
  },
  {
   "cell_type": "code",
   "execution_count": 53,
   "id": "6badcc6c",
   "metadata": {},
   "outputs": [
    {
     "data": {
      "text/plain": [
       "False"
      ]
     },
     "execution_count": 53,
     "metadata": {},
     "output_type": "execute_result"
    }
   ],
   "source": [
    "not (5 > 4)\n",
    "\n",
    "##Here output is false, beacuse  5>4 is True , from 'NOT boolean operator' should give reverse result\n",
    "## not(true) results False"
   ]
  },
  {
   "cell_type": "code",
   "execution_count": 54,
   "id": "8c89ee56",
   "metadata": {},
   "outputs": [
    {
     "data": {
      "text/plain": [
       "True"
      ]
     },
     "execution_count": 54,
     "metadata": {},
     "output_type": "execute_result"
    }
   ],
   "source": [
    "(5 > 4) or (3 == 5)\n",
    "\n",
    "##Here output is True, beacuse  5>4 is True , 3==5 is False,\n",
    "##OR boolean operator - True or False results True"
   ]
  },
  {
   "cell_type": "code",
   "execution_count": 55,
   "id": "77defe9a",
   "metadata": {},
   "outputs": [
    {
     "data": {
      "text/plain": [
       "False"
      ]
     },
     "execution_count": 55,
     "metadata": {},
     "output_type": "execute_result"
    }
   ],
   "source": [
    "not ((5 > 4) or (3 == 5))\n",
    "\n",
    "##Here output is False, beacuse  5>4 is True , 3==5 is False, \n",
    "## OR boolean operator -  True or False results True\n",
    "## after applying - NOT boolean operator - it should give reverse results \n",
    "## hence result is False"
   ]
  },
  {
   "cell_type": "code",
   "execution_count": 60,
   "id": "0311691b",
   "metadata": {},
   "outputs": [
    {
     "data": {
      "text/plain": [
       "False"
      ]
     },
     "execution_count": 60,
     "metadata": {},
     "output_type": "execute_result"
    }
   ],
   "source": [
    "(True and True) and (True == False)\n",
    "\n",
    "##Here output is False, beacuse  \n",
    "## from  AND boolean operator - True and True results True\n",
    "## here given is True == False\n",
    "## final  statement will be True and False\n",
    "## from  AND boolean operator - True and False results False \n",
    "## hence result is False"
   ]
  },
  {
   "cell_type": "code",
   "execution_count": 57,
   "id": "e2f3fce1",
   "metadata": {},
   "outputs": [
    {
     "data": {
      "text/plain": [
       "True"
      ]
     },
     "execution_count": 57,
     "metadata": {},
     "output_type": "execute_result"
    }
   ],
   "source": [
    "(not False) or (not True)\n",
    "\n",
    "##Here output is True, beacuse \n",
    "## from -  NOT boolean operator - not False results True\n",
    "## from -  NOT boolean operator - not True results False\n",
    "## finally we get 'True or False' - From OR boolean operator - True or False results True"
   ]
  },
  {
   "cell_type": "markdown",
   "id": "97ba142b",
   "metadata": {},
   "source": [
    "## 5. What are the six comparison operators?"
   ]
  },
  {
   "cell_type": "raw",
   "id": "2be7fe71",
   "metadata": {},
   "source": [
    "== \n",
    "\n",
    "Checking the two operands are equal"
   ]
  },
  {
   "cell_type": "code",
   "execution_count": 65,
   "id": "8f105c84",
   "metadata": {},
   "outputs": [
    {
     "data": {
      "text/plain": [
       "True"
      ]
     },
     "execution_count": 65,
     "metadata": {},
     "output_type": "execute_result"
    }
   ],
   "source": [
    "a = 5\n",
    "b = 5\n",
    "\n",
    "a==b"
   ]
  },
  {
   "cell_type": "code",
   "execution_count": 66,
   "id": "4092538a",
   "metadata": {},
   "outputs": [
    {
     "data": {
      "text/plain": [
       "False"
      ]
     },
     "execution_count": 66,
     "metadata": {},
     "output_type": "execute_result"
    }
   ],
   "source": [
    "a = 10\n",
    "b = 5\n",
    "\n",
    "a==b"
   ]
  },
  {
   "cell_type": "raw",
   "id": "7886a09c",
   "metadata": {},
   "source": [
    "!= \n",
    "\n",
    "Checking the two operands are not equal"
   ]
  },
  {
   "cell_type": "code",
   "execution_count": 67,
   "id": "b8cd50ba",
   "metadata": {},
   "outputs": [
    {
     "data": {
      "text/plain": [
       "False"
      ]
     },
     "execution_count": 67,
     "metadata": {},
     "output_type": "execute_result"
    }
   ],
   "source": [
    "a = 5\n",
    "b = 5\n",
    "\n",
    "a!=b"
   ]
  },
  {
   "cell_type": "code",
   "execution_count": 68,
   "id": "e56f8701",
   "metadata": {},
   "outputs": [
    {
     "data": {
      "text/plain": [
       "True"
      ]
     },
     "execution_count": 68,
     "metadata": {},
     "output_type": "execute_result"
    }
   ],
   "source": [
    "a = 10\n",
    "b = 5\n",
    "\n",
    "a!=b"
   ]
  },
  {
   "cell_type": "raw",
   "id": "551ad098",
   "metadata": {},
   "source": [
    ">\n",
    "\n",
    " value of left operand is greater than the value of right operand"
   ]
  },
  {
   "cell_type": "code",
   "execution_count": 69,
   "id": "c703bd28",
   "metadata": {},
   "outputs": [
    {
     "data": {
      "text/plain": [
       "True"
      ]
     },
     "execution_count": 69,
     "metadata": {},
     "output_type": "execute_result"
    }
   ],
   "source": [
    "a = 10\n",
    "b = 5\n",
    "\n",
    "a>b"
   ]
  },
  {
   "cell_type": "code",
   "execution_count": 70,
   "id": "c303f156",
   "metadata": {},
   "outputs": [
    {
     "data": {
      "text/plain": [
       "False"
      ]
     },
     "execution_count": 70,
     "metadata": {},
     "output_type": "execute_result"
    }
   ],
   "source": [
    "a = 2\n",
    "b = 5\n",
    "\n",
    "a>b"
   ]
  },
  {
   "cell_type": "raw",
   "id": "c4e32fb4",
   "metadata": {},
   "source": [
    "<\n",
    "\n",
    "value of left operand is less than the value of right operand"
   ]
  },
  {
   "cell_type": "code",
   "execution_count": 72,
   "id": "4f6d2952",
   "metadata": {},
   "outputs": [
    {
     "data": {
      "text/plain": [
       "True"
      ]
     },
     "execution_count": 72,
     "metadata": {},
     "output_type": "execute_result"
    }
   ],
   "source": [
    "a = 2\n",
    "b = 5\n",
    "\n",
    "a<b"
   ]
  },
  {
   "cell_type": "code",
   "execution_count": 71,
   "id": "21a966f1",
   "metadata": {},
   "outputs": [
    {
     "data": {
      "text/plain": [
       "False"
      ]
     },
     "execution_count": 71,
     "metadata": {},
     "output_type": "execute_result"
    }
   ],
   "source": [
    "a = 10\n",
    "b = 5\n",
    "\n",
    "a<b"
   ]
  },
  {
   "cell_type": "raw",
   "id": "54b1c2b1",
   "metadata": {},
   "source": [
    ">=\n",
    "\n",
    "value of left operand is greater than or equal to the value of right operand"
   ]
  },
  {
   "cell_type": "code",
   "execution_count": 73,
   "id": "58643d70",
   "metadata": {},
   "outputs": [
    {
     "data": {
      "text/plain": [
       "True"
      ]
     },
     "execution_count": 73,
     "metadata": {},
     "output_type": "execute_result"
    }
   ],
   "source": [
    "a = 10\n",
    "b = 5\n",
    "\n",
    "a>=b"
   ]
  },
  {
   "cell_type": "code",
   "execution_count": 74,
   "id": "8426ed27",
   "metadata": {},
   "outputs": [
    {
     "data": {
      "text/plain": [
       "True"
      ]
     },
     "execution_count": 74,
     "metadata": {},
     "output_type": "execute_result"
    }
   ],
   "source": [
    "a = 5\n",
    "b = 5\n",
    "\n",
    "a>=b"
   ]
  },
  {
   "cell_type": "code",
   "execution_count": 75,
   "id": "70a694f8",
   "metadata": {},
   "outputs": [
    {
     "data": {
      "text/plain": [
       "False"
      ]
     },
     "execution_count": 75,
     "metadata": {},
     "output_type": "execute_result"
    }
   ],
   "source": [
    "a = 2\n",
    "b = 5\n",
    "\n",
    "a>=b"
   ]
  },
  {
   "cell_type": "raw",
   "id": "0965ff19",
   "metadata": {},
   "source": [
    "<=\n",
    "\n",
    "value of left operand is less than or equal to the value of right operand"
   ]
  },
  {
   "cell_type": "code",
   "execution_count": 76,
   "id": "f15be31c",
   "metadata": {},
   "outputs": [
    {
     "data": {
      "text/plain": [
       "False"
      ]
     },
     "execution_count": 76,
     "metadata": {},
     "output_type": "execute_result"
    }
   ],
   "source": [
    "a = 10\n",
    "b = 5\n",
    "\n",
    "a<=b"
   ]
  },
  {
   "cell_type": "code",
   "execution_count": 77,
   "id": "112b0019",
   "metadata": {},
   "outputs": [
    {
     "data": {
      "text/plain": [
       "True"
      ]
     },
     "execution_count": 77,
     "metadata": {},
     "output_type": "execute_result"
    }
   ],
   "source": [
    "a = 5\n",
    "b = 5\n",
    "\n",
    "a<=b"
   ]
  },
  {
   "cell_type": "code",
   "execution_count": 78,
   "id": "6574b361",
   "metadata": {},
   "outputs": [
    {
     "data": {
      "text/plain": [
       "True"
      ]
     },
     "execution_count": 78,
     "metadata": {},
     "output_type": "execute_result"
    }
   ],
   "source": [
    "a = 2\n",
    "b = 5\n",
    "\n",
    "a<=b"
   ]
  },
  {
   "cell_type": "markdown",
   "id": "aadb70a9",
   "metadata": {},
   "source": [
    "## 6. How do you tell the difference between the equal to and assignment operators?Describe a condition and when you would use one."
   ]
  },
  {
   "cell_type": "raw",
   "id": "e7aeda87",
   "metadata": {},
   "source": [
    "= is an assignment operator and == is an equality operator\n",
    "\n",
    "where assignment operator used to assign value to varibale , ie. x =2.\n",
    "\n",
    "where equality operator used to whether 2 expressions give the same value or not. ie. x==y.\n"
   ]
  },
  {
   "cell_type": "code",
   "execution_count": 2,
   "id": "2ccebedc",
   "metadata": {},
   "outputs": [],
   "source": [
    "#here beolow example we given value to x  &y variable using assignment operator (=)\n",
    "x = 10\n",
    "y = 15"
   ]
  },
  {
   "cell_type": "code",
   "execution_count": 3,
   "id": "c8875bc6",
   "metadata": {},
   "outputs": [
    {
     "data": {
      "text/plain": [
       "False"
      ]
     },
     "execution_count": 3,
     "metadata": {},
     "output_type": "execute_result"
    }
   ],
   "source": [
    "#here we are checking , where x & y having same value or not, if it's same gives True otherswise results will be Fsalse\n",
    "x==y"
   ]
  },
  {
   "cell_type": "markdown",
   "id": "0226fe4f",
   "metadata": {},
   "source": [
    "## 7. Identify the three blocks in this code:\n",
    "\n",
    "\n",
    "spam = 0\n",
    "\n",
    "if spam == 10:\n",
    "\n",
    "print('eggs')\n",
    "\n",
    "if spam > 5:\n",
    "\n",
    "print('bacon')\n",
    "\n",
    "else:\n",
    "\n",
    "print('ham')\n",
    "\n",
    "print('spam')\n",
    "\n",
    "print('spam')"
   ]
  },
  {
   "cell_type": "code",
   "execution_count": 20,
   "id": "30bb4e04",
   "metadata": {},
   "outputs": [
    {
     "name": "stdout",
     "output_type": "stream",
     "text": [
      "ham\n",
      "spam\n",
      "spam\n"
     ]
    }
   ],
   "source": [
    "spam = 0\n",
    "\n",
    "if spam == 10:\n",
    "    print('eggs')\n",
    "\n",
    "if spam > 5:\n",
    "    print('bacon')\n",
    "\n",
    "else:\n",
    "    print('ham')\n",
    "    print('spam')\n",
    "    print('spam')"
   ]
  },
  {
   "cell_type": "raw",
   "id": "e77845e8",
   "metadata": {},
   "source": [
    "Here above example having three blocks\n",
    "Blocks are sepearted by indentation & this seperated the code from block to block\n",
    "we find 1st if statement to Print('eggs') as one block, next if statemnet to Print('bacon') as next block, from else stament & all prints are last block"
   ]
  },
  {
   "cell_type": "markdown",
   "id": "bda923e1",
   "metadata": {},
   "source": [
    "## 8. Write code that prints Hello if 1 is stored in spam, prints Howdy if 2 is stored in spam, and prints Greetings! if anything else is stored in spam."
   ]
  },
  {
   "cell_type": "code",
   "execution_count": 12,
   "id": "8e3e1350",
   "metadata": {},
   "outputs": [
    {
     "name": "stdout",
     "output_type": "stream",
     "text": [
      "Greetings!\n"
     ]
    }
   ],
   "source": [
    "spam = \"ineuron\"\n",
    "\n",
    "if spam == 1:\n",
    "    print(\"Hello\")\n",
    "\n",
    "elif spam == 2:\n",
    "    print(\"Howdy\")\n",
    "\n",
    "else:\n",
    "    print(\"Greetings!\")\n",
    "    \n",
    "##above code input is not used beacause, question is asked for except 1 & 2 results greetings, \n",
    "## if i applied input, 1 & 2 are  results greetings only , actual need is hello & howdy\n",
    "## if i applied input with int, for sting above code will not work"
   ]
  },
  {
   "cell_type": "markdown",
   "id": "93e6ae1f",
   "metadata": {},
   "source": [
    "## 9.If your programme is stuck in an endless loop, what keys you’ll press?"
   ]
  },
  {
   "cell_type": "raw",
   "id": "50fa78d4",
   "metadata": {},
   "source": [
    "we can use Ctrl+C"
   ]
  },
  {
   "cell_type": "markdown",
   "id": "4022335d",
   "metadata": {},
   "source": [
    "## 10. How can you tell the difference between break and continue?"
   ]
  },
  {
   "cell_type": "raw",
   "id": "fc60da30",
   "metadata": {},
   "source": [
    "1) Break stops/eliminates execution of remamining iteration of loop\n",
    "    Continue erminate only the current iteration of loop.\n",
    "\n",
    "2) Break - early terminates the  loop\n",
    "    Continue - early execution of next iteration\n",
    "    "
   ]
  },
  {
   "cell_type": "markdown",
   "id": "9625255b",
   "metadata": {},
   "source": [
    "## 11. In a for loop, what is the difference between range(10), range(0, 10), and range(0, 10, 1)?"
   ]
  },
  {
   "cell_type": "code",
   "execution_count": 13,
   "id": "ec8606a1",
   "metadata": {},
   "outputs": [
    {
     "name": "stdout",
     "output_type": "stream",
     "text": [
      "0\n",
      "1\n",
      "2\n",
      "3\n",
      "4\n",
      "5\n",
      "6\n",
      "7\n",
      "8\n",
      "9\n"
     ]
    }
   ],
   "source": [
    "for i in range(10):\n",
    "    print(i)"
   ]
  },
  {
   "cell_type": "code",
   "execution_count": 14,
   "id": "32c05237",
   "metadata": {},
   "outputs": [
    {
     "name": "stdout",
     "output_type": "stream",
     "text": [
      "0\n",
      "1\n",
      "2\n",
      "3\n",
      "4\n",
      "5\n",
      "6\n",
      "7\n",
      "8\n",
      "9\n"
     ]
    }
   ],
   "source": [
    "for i in range (0,10):\n",
    "    print(i)"
   ]
  },
  {
   "cell_type": "code",
   "execution_count": 17,
   "id": "9e68b044",
   "metadata": {},
   "outputs": [
    {
     "name": "stdout",
     "output_type": "stream",
     "text": [
      "0\n",
      "1\n",
      "2\n",
      "3\n",
      "4\n",
      "5\n",
      "6\n",
      "7\n",
      "8\n",
      "9\n"
     ]
    }
   ],
   "source": [
    "for i in range (0, 10, 1):\n",
    "    print(i)"
   ]
  },
  {
   "cell_type": "raw",
   "id": "7175f34c",
   "metadata": {},
   "source": [
    "in above three outputs, results are same\n",
    "in general range having three type parameter - range(starting value, ending value, increment value)\n",
    "in first example [range(10)] - considered given value as ending value & by default for loop consider starting value & increment values as 1, when not given\n",
    "in second example [range(0,10)] - here the two values considered as  starting value, ending value respectively, increment value considered as 1 by default.\n",
    "in third example [(0, 10, 1)] - here given values are starting value, ending value, increment value\n",
    "\n",
    "increment value - increment the sequence \n"
   ]
  },
  {
   "cell_type": "markdown",
   "id": "d0d33598",
   "metadata": {},
   "source": [
    "## 12. Write a short program that prints the numbers 1 to 10 using a for loop. Then write an equivalent program that prints the numbers 1 to 10 using a while loop."
   ]
  },
  {
   "cell_type": "code",
   "execution_count": 18,
   "id": "165e9305",
   "metadata": {},
   "outputs": [
    {
     "name": "stdout",
     "output_type": "stream",
     "text": [
      "1\n",
      "2\n",
      "3\n",
      "4\n",
      "5\n",
      "6\n",
      "7\n",
      "8\n",
      "9\n",
      "10\n"
     ]
    }
   ],
   "source": [
    "##for loop\n",
    "for i in range (1, 11):\n",
    "    print(i)"
   ]
  },
  {
   "cell_type": "code",
   "execution_count": 19,
   "id": "3441f6b4",
   "metadata": {},
   "outputs": [
    {
     "name": "stdout",
     "output_type": "stream",
     "text": [
      "1\n",
      "2\n",
      "3\n",
      "4\n",
      "5\n",
      "6\n",
      "7\n",
      "8\n",
      "9\n",
      "10\n"
     ]
    }
   ],
   "source": [
    "## while loop\n",
    "i = 1\n",
    "while i <= 10:\n",
    "    print(i)\n",
    "    i = i+1"
   ]
  },
  {
   "cell_type": "markdown",
   "id": "aeb103ac",
   "metadata": {},
   "source": [
    "## 13. If you had a function named bacon() inside a module named spam, how would you call it after importing spam?"
   ]
  },
  {
   "cell_type": "markdown",
   "id": "c8610b0b",
   "metadata": {},
   "source": [
    "Module is program, which contain function, class & variables\n",
    "inside module we can create n number of functions"
   ]
  },
  {
   "cell_type": "raw",
   "id": "fed8c0d4",
   "metadata": {},
   "source": [
    "in above example spam is module & bacon() is inside function "
   ]
  },
  {
   "cell_type": "code",
   "execution_count": null,
   "id": "b8b427bb",
   "metadata": {},
   "outputs": [],
   "source": [
    "##first we need to import module\n",
    "import spam"
   ]
  },
  {
   "cell_type": "code",
   "execution_count": null,
   "id": "85660acb",
   "metadata": {},
   "outputs": [],
   "source": [
    "## once import the module, we need to call function after the module\n",
    "spam.bacon()"
   ]
  }
 ],
 "metadata": {
  "kernelspec": {
   "display_name": "Python 3",
   "language": "python",
   "name": "python3"
  },
  "language_info": {
   "codemirror_mode": {
    "name": "ipython",
    "version": 3
   },
   "file_extension": ".py",
   "mimetype": "text/x-python",
   "name": "python",
   "nbconvert_exporter": "python",
   "pygments_lexer": "ipython3",
   "version": "3.8.8"
  }
 },
 "nbformat": 4,
 "nbformat_minor": 5
}
